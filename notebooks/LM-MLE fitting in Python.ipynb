{
 "cells": [
  {
   "cell_type": "markdown",
   "metadata": {},
   "source": [
    "# LM-MLE fitting in Python\n",
    "\n",
    "Need to implement our own version of LM-MLE fitting in python, because you cannot simply change the $\\chi^2$ function, you also have to change the gradients.\n",
    "\n",
    "Here's a C implementation:\n",
    "http://users.ics.forth.gr/~lourakis/levmar/\n",
    "\n",
    "Basic plan is to replace the `leastsq` function, monkey patching that in instead\n",
    "\n",
    "`_wrap_func` is here: https://github.com/scipy/scipy/blob/master/scipy/optimize/minpack.py\n",
    "\n",
    "`_wrap_func` returns $\\chi_i$ where, for Gaussian noise, $\\chi_i = \\frac{f_i - x_i}{\\sigma_i}$ and $\\chi^2 = \\sum \\chi_i^2$\n",
    "\n",
    "The call function in `curve_fit` looks like this:\n",
    "```python\n",
    "    ...\n",
    "    # Determine type of sigma\n",
    "    if sigma is not None:\n",
    "        sigma = np.asarray(sigma)\n",
    "\n",
    "        # if 1-d, sigma are errors, define transform = 1/sigma\n",
    "        if sigma.shape == (ydata.size, ):\n",
    "            transform = 1.0 / sigma\n",
    "        # if 2-d, sigma is the covariance matrix,\n",
    "        # define transform = L such that L L^T = C\n",
    "        elif sigma.shape == (ydata.size, ydata.size):\n",
    "            try:\n",
    "                # scipy.linalg.cholesky requires lower=True to return L L^T = A\n",
    "                transform = cholesky(sigma, lower=True)\n",
    "            except LinAlgError:\n",
    "                raise ValueError(\"`sigma` must be positive definite.\")\n",
    "        else:\n",
    "            raise ValueError(\"`sigma` has incorrect shape.\")\n",
    "    else:\n",
    "        transform = None\n",
    "\n",
    "    func = _wrap_func(f, xdata, ydata, transform)\n",
    "    if callable(jac):\n",
    "        jac = _wrap_jac(jac, xdata, transform)\n",
    "    elif jac is None and method != 'lm':\n",
    "        jac = '2-point'\n",
    "\n",
    "    if method == 'lm':\n",
    "        # Remove full_output from kwargs, otherwise we're passing it in twice.\n",
    "        return_full = kwargs.pop('full_output', False)\n",
    "        res = leastsq(func, p0, Dfun=jac, full_output=1, **kwargs)\n",
    "        popt, pcov, infodict, errmsg, ier = res\n",
    "        cost = np.sum(infodict['fvec'] ** 2)\n",
    "        if ier not in [1, 2, 3, 4]:\n",
    "            raise RuntimeError(\"Optimal parameters not found: \" + errmsg)\n",
    "    ...\n",
    "```"
   ]
  },
  {
   "cell_type": "markdown",
   "metadata": {},
   "source": [
    "# Simple LS LM\n",
    "\n",
    "Here I attempt to implement a simple, fully pythonic, version of LM. To make life ridiculously easy I'll start with modeling an exponential equation $y = A e^{-k t} + o$."
   ]
  },
  {
   "cell_type": "code",
   "execution_count": 1,
   "metadata": {
    "collapsed": true
   },
   "outputs": [],
   "source": [
    "%matplotlib inline\n",
    "import numpy as np\n",
    "from numpy import linalg as la\n",
    "import matplotlib.pyplot as plt\n",
    "%load_ext line_profiler"
   ]
  },
  {
   "cell_type": "markdown",
   "metadata": {},
   "source": [
    "My test function will be two gaussians\n",
    "\n",
    "$$\n",
    "y = A_0 e^{-\\frac{(x-x_0)^2}{\\sigma_0^2}} + A_1 e^{-\\frac{(x-x_1)^2}{\\sigma_1^2}} + O\n",
    "$$"
   ]
  },
  {
   "cell_type": "code",
   "execution_count": 2,
   "metadata": {
    "collapsed": true
   },
   "outputs": [],
   "source": [
    "def test_func(xdata, a0, x0, sigma0, a1, x1, sigma1, o):\n",
    "    \"\"\"An exponential decay\"\"\"\n",
    "    return a0 * np.exp(-(xdata-x0)**2 / sigma0**2) + a1 * np.exp(-(xdata-x1)**2 / sigma1**2) + o"
   ]
  },
  {
   "cell_type": "code",
   "execution_count": 3,
   "metadata": {},
   "outputs": [
    {
     "data": {
      "text/plain": [
       "[<matplotlib.lines.Line2D at 0x284251c3748>]"
      ]
     },
     "execution_count": 3,
     "metadata": {},
     "output_type": "execute_result"
    },
    {
     "data": {
      "image/png": "[encoded data removed]",
      "text/plain": [
       "<matplotlib.figure.Figure at 0x284250e1438>"
      ]
     },
     "metadata": {},
     "output_type": "display_data"
    }
   ],
   "source": [
    "x = np.linspace(0,1)\n",
    "preal = np.array([1, 0.25, .04, 2, 0.7, 0.07, 2])\n",
    "y = test_func(x, *preal)\n",
    "plt.plot(x, y)"
   ]
  },
  {
   "cell_type": "code",
   "execution_count": 4,
   "metadata": {
    "collapsed": true
   },
   "outputs": [],
   "source": [
    "def test_func_jac(xdata, a0, x0, sigma0, a1, x1, sigma1, o):\n",
    "    \"\"\"An exponential decay\"\"\"\n",
    "    dyda0 = np.exp(-(xdata-x0)**2 / sigma0**2)\n",
    "    dydx0 = 2 * a0 * (xdata-x0) * dyda0 / sigma0**2\n",
    "    dydsigma0 = dydx0 * (xdata-x0) / sigma0\n",
    "    \n",
    "    dyda1 = np.exp(-(xdata-x1)**2 / sigma1**2)\n",
    "    dydx1 = 2 * a1 * (xdata-x1) * dyda1 / sigma1**2\n",
    "    dydsigma1 = dydx1 * (xdata-x1) / sigma1\n",
    "    \n",
    "    dydo = np.ones_like(dyda0)\n",
    "    \n",
    "    to_return = np.concatenate((dyda0, dydx0, dydsigma0, dyda1, dydx1, dydsigma1, dydo))\n",
    "    to_return.shape = (7, -1)\n",
    "#     to_return = np.vstack((dyda0, dydx0, dydsigma0, dyda1, dydx1, dydsigma1, dydo))\n",
    "    return to_return.T"
   ]
  },
  {
   "cell_type": "markdown",
   "metadata": {},
   "source": [
    "## Test fit with `scipy.optimize.curve_fit`"
   ]
  },
  {
   "cell_type": "code",
   "execution_count": 5,
   "metadata": {
    "collapsed": true
   },
   "outputs": [],
   "source": [
    "from scipy.optimize import curve_fit"
   ]
  },
  {
   "cell_type": "code",
   "execution_count": 6,
   "metadata": {},
   "outputs": [
    {
     "data": {
      "text/plain": [
       "[<matplotlib.lines.Line2D at 0x2842a3353c8>]"
      ]
     },
     "execution_count": 6,
     "metadata": {},
     "output_type": "execute_result"
    },
    {
     "data": {
      "image/png": "[encoded data removed]",
      "text/plain": [
       "<matplotlib.figure.Figure at 0x2842a2da2b0>"
      ]
     },
     "metadata": {},
     "output_type": "display_data"
    }
   ],
   "source": [
    "x = np.linspace(0,1, 81)\n",
    "y = test_func(x, *preal) + 0.1*np.random.randn(len(x))\n",
    "plt.plot(x, y)"
   ]
  },
  {
   "cell_type": "code",
   "execution_count": 7,
   "metadata": {},
   "outputs": [
    {
     "data": {
      "text/plain": [
       "array([ 1.  ,  0.25,  0.04,  2.  ,  0.7 ,  0.07,  2.  ])"
      ]
     },
     "execution_count": 7,
     "metadata": {},
     "output_type": "execute_result"
    }
   ],
   "source": [
    "preal"
   ]
  },
  {
   "cell_type": "code",
   "execution_count": 8,
   "metadata": {},
   "outputs": [
    {
     "data": {
      "text/plain": [
       "[<matplotlib.lines.Line2D at 0x2842a3407b8>]"
      ]
     },
     "execution_count": 8,
     "metadata": {},
     "output_type": "execute_result"
    },
    {
     "data": {
      "image/png": "[encoded data removed]",
      "text/plain": [
       "<matplotlib.figure.Figure at 0x2842a340be0>"
      ]
     },
     "metadata": {},
     "output_type": "display_data"
    }
   ],
   "source": [
    "pguess = np.array([ 1.1  ,  0.23,  0.03,  2.  ,  0.65 ,  0.05 ,  1.  ])\n",
    "y_fit = test_func(x, *pguess)\n",
    "plt.plot(x, y, \".\")\n",
    "plt.plot(x, y_fit)"
   ]
  },
  {
   "cell_type": "code",
   "execution_count": 9,
   "metadata": {},
   "outputs": [
    {
     "name": "stdout",
     "output_type": "stream",
     "text": [
      "Wall time: 1.97 ms\n"
     ]
    }
   ],
   "source": [
    "%%time\n",
    "popt_sp, pcov, infodict, errmsg, ier = curve_fit(\n",
    "    test_func, x, y, p0=pguess, full_output=True,\n",
    "    jac=test_func_jac)"
   ]
  },
  {
   "cell_type": "code",
   "execution_count": 10,
   "metadata": {},
   "outputs": [
    {
     "data": {
      "text/plain": [
       "array([ 1.02680848,  0.24900876,  0.04033335,  2.04787024,  0.7001997 ,\n",
       "        0.06962797,  1.99959199])"
      ]
     },
     "execution_count": 10,
     "metadata": {},
     "output_type": "execute_result"
    }
   ],
   "source": [
    "popt_sp"
   ]
  },
  {
   "cell_type": "code",
   "execution_count": 11,
   "metadata": {},
   "outputs": [
    {
     "data": {
      "text/plain": [
       "0.88478569050383293"
      ]
     },
     "execution_count": 11,
     "metadata": {},
     "output_type": "execute_result"
    },
    {
     "data": {
      "image/png": "[encoded data removed]",
      "text/plain": [
       "<matplotlib.figure.Figure at 0x2842a3d4390>"
      ]
     },
     "metadata": {},
     "output_type": "display_data"
    }
   ],
   "source": [
    "y_fit = test_func(x, *popt_sp)\n",
    "plt.plot(x, y, \".\")\n",
    "plt.plot(x, y_fit)\n",
    "((y-y_fit)**2).sum()"
   ]
  },
  {
   "cell_type": "code",
   "execution_count": 12,
   "metadata": {
    "collapsed": true
   },
   "outputs": [],
   "source": [
    "def chi2(y, ydata):\n",
    "    return 0.5 * ((y - ydata)**2).sum()\n",
    "\n",
    "def lm_update(xdata, f, p, jac):\n",
    "    \"\"\"should use partials inside lm_ls\"\"\"\n",
    "    # calculate the jacobian\n",
    "    # j shape (ndata, nparams)\n",
    "    j = jac(xdata, *p)\n",
    "    # calculate the linear term of Hessian\n",
    "    # a shape (nparams, nparams)\n",
    "    a = j.T @ j\n",
    "    # calculate the gradient\n",
    "    # g shape (nparams,)\n",
    "    g = j.T @ f\n",
    "    return a, g\n",
    "\n",
    "def lm_ls(func, xdata, ydata, p0, jac, ftol=1.49012e-8, xtol=1.49012e-8, gtol=0.0,\n",
    "         maxfev=None, factor=100):\n",
    "    \"\"\"A test implementation of levenburg-marquet\n",
    "    \n",
    "    ftol : float, optional\n",
    "        Relative error desired in the sum of squares.\n",
    "    xtol : float, optional\n",
    "        Relative error desired in the approximate solution.\n",
    "    gtol : float, optional\n",
    "        Orthogonality desired between the function vector and the\n",
    "        columns of the Jacobian.\n",
    "    \"\"\"\n",
    "    if maxfev is None:\n",
    "        maxfev = 100 * (len(p0) + 1)\n",
    "\n",
    "#     gtest = mubda g : npla.norm(g, np.inf) <= gtol\n",
    "    def gtest(g):\n",
    "        return np.abs(g).max() <= gtol\n",
    "    def xtest(dp, p):\n",
    "        norm_dp = la.norm(dp)\n",
    "        return norm_dp <= xtol * (norm_dp + xtol)\n",
    "    # need residuals\n",
    "    y = func(xdata, *p0)\n",
    "    a, g = lm_update(xdata, y - ydata, p0, jac)\n",
    "    chisq_old = chi2(y, ydata)\n",
    "    mu = factor * np.diagonal(a).max()\n",
    "#     v = 10\n",
    "    p = p0\n",
    "    for ev in range(maxfev):\n",
    "        if gtest(g):\n",
    "            break\n",
    "        # calculate proposed step\n",
    "        aug_a = a + np.diag(np.ones_like(g) * mu)\n",
    "        # dp = la.lstsq(aug_a, -g)[0]\n",
    "        dp = -la.inv(aug_a) @ g\n",
    "        if xtest(dp, p):\n",
    "            break\n",
    "        # make test move, I think I should be saving previous\n",
    "        # position so that I can \"undo\" if this is bad\n",
    "        p = p0 + dp\n",
    "        y = func(xdata, *p)\n",
    "        chisq_new = chi2(y, ydata)\n",
    "        # see if we reduced chisq, note we should do more here\n",
    "#         predicted_gain = 0.5 * dp.T @ (mu * dp - g)\n",
    "        rho = (chisq_old - chisq_new) # / predicted_gain\n",
    "        if rho > 0:\n",
    "            if rho <= ftol * chisq_old:\n",
    "                break\n",
    "            # update params, chisq and a and g\n",
    "            p0 = p\n",
    "            chisq_old = chisq_new\n",
    "            a, g = lm_update(xdata, y - ydata, p0, jac)\n",
    "            mu = mu / factor\n",
    "        else:\n",
    "            mu *= factor\n",
    "    return p"
   ]
  },
  {
   "cell_type": "code",
   "execution_count": 13,
   "metadata": {},
   "outputs": [
    {
     "name": "stdout",
     "output_type": "stream",
     "text": [
      "761 ns ± 6.51 ns per loop (mean ± std. dev. of 7 runs, 1000000 loops each)\n",
      "852 ns ± 6.33 ns per loop (mean ± std. dev. of 7 runs, 1000000 loops each)\n"
     ]
    }
   ],
   "source": [
    "ta, tb = np.random.randn(7, 7), np.random.randn(700)\n",
    "assert np.array_equal(np.dot(tb, tb), tb.T @ tb)\n",
    "%timeit np.dot(tb, tb)\n",
    "%timeit tb.T @ tb"
   ]
  },
  {
   "cell_type": "code",
   "execution_count": 14,
   "metadata": {},
   "outputs": [
    {
     "name": "stdout",
     "output_type": "stream",
     "text": [
      "61.8 µs ± 590 ns per loop (mean ± std. dev. of 7 runs, 10000 loops each)\n",
      "60.2 µs ± 661 ns per loop (mean ± std. dev. of 7 runs, 10000 loops each)\n",
      "15 µs ± 42.9 ns per loop (mean ± std. dev. of 7 runs, 100000 loops each)\n",
      "63.2 µs ± 1.64 µs per loop (mean ± std. dev. of 7 runs, 10000 loops each)\n",
      "61.9 µs ± 1.32 µs per loop (mean ± std. dev. of 7 runs, 10000 loops each)\n",
      "61.2 µs ± 588 ns per loop (mean ± std. dev. of 7 runs, 10000 loops each)\n",
      "61.4 µs ± 551 ns per loop (mean ± std. dev. of 7 runs, 10000 loops each)\n",
      "63.4 µs ± 490 ns per loop (mean ± std. dev. of 7 runs, 10000 loops each)\n"
     ]
    }
   ],
   "source": [
    "ta, tb = np.random.randn(7, 7), np.random.randn(7)\n",
    "%timeit la.lstsq(ta, tb)\n",
    "%timeit la.pinv(ta) @ tb\n",
    "%timeit la.inv(ta) @ tb\n",
    "%timeit la.lstsq(ta, tb, 1e-6)\n",
    "%timeit la.lstsq(ta, tb, 1e-8)\n",
    "%timeit la.lstsq(ta, tb, 1e-10)\n",
    "%timeit la.lstsq(ta, tb, 1e-15)\n",
    "ta = ta.astype(np.float32)\n",
    "tb = tb.astype(np.float32)\n",
    "%timeit la.lstsq(ta, tb)"
   ]
  },
  {
   "cell_type": "code",
   "execution_count": 15,
   "metadata": {},
   "outputs": [
    {
     "name": "stdout",
     "output_type": "stream",
     "text": [
      "Wall time: 6 ms\n"
     ]
    },
    {
     "data": {
      "text/plain": [
       "[<matplotlib.lines.Line2D at 0x2842a412160>]"
      ]
     },
     "execution_count": 15,
     "metadata": {},
     "output_type": "execute_result"
    },
    {
     "data": {
      "image/png": "[encoded data removed]",
      "text/plain": [
       "<matplotlib.figure.Figure at 0x2842a412668>"
      ]
     },
     "metadata": {},
     "output_type": "display_data"
    }
   ],
   "source": [
    "%time popt = lm_ls(test_func, x, y, pguess, test_func_jac)\n",
    "y_fit = test_func(x, *popt)\n",
    "plt.plot(x, y, \".\")\n",
    "plt.plot(x, y_fit)"
   ]
  },
  {
   "cell_type": "code",
   "execution_count": 16,
   "metadata": {},
   "outputs": [
    {
     "data": {
      "text/plain": [
       "True"
      ]
     },
     "execution_count": 16,
     "metadata": {},
     "output_type": "execute_result"
    }
   ],
   "source": [
    "np.allclose(popt, popt_sp)"
   ]
  },
  {
   "cell_type": "code",
   "execution_count": 17,
   "metadata": {},
   "outputs": [
    {
     "data": {
      "text/plain": [
       "(array([ 1.02680848,  0.24900876,  0.04033335,  2.04787024,  0.7001997 ,\n",
       "         0.06962797,  1.99959199]),\n",
       " array([[  4.55978703e-03,  -6.91172310e-17,  -1.06334926e-04,\n",
       "           1.24743577e-04,  -1.78130237e-14,   8.48260776e-06,\n",
       "          -1.76414055e-04],\n",
       "        [ -6.91172310e-17,   4.56157775e-06,  -5.43314763e-18,\n",
       "           3.85098310e-16,   3.32655007e-18,  -3.62886989e-17,\n",
       "           9.78006393e-17],\n",
       "        [ -1.06334926e-04,  -5.43314763e-18,   9.89297098e-06,\n",
       "           9.79946618e-06,  -1.36314658e-15,   6.66367200e-07,\n",
       "          -1.38585377e-05],\n",
       "        [  1.24743577e-04,   3.85098310e-16,   9.79946618e-06,\n",
       "           2.69374527e-03,  -1.75903493e-14,  -4.97484050e-05,\n",
       "          -1.76414058e-04],\n",
       "        [ -1.78130237e-14,   3.32655007e-18,  -1.36314658e-15,\n",
       "          -1.75903493e-14,   1.97986491e-06,  -1.19614916e-15,\n",
       "           2.48765011e-14],\n",
       "        [  8.48260776e-06,  -3.62886989e-17,   6.66367200e-07,\n",
       "          -4.97484050e-05,  -1.19614916e-15,   4.53655018e-06,\n",
       "          -1.19962189e-05],\n",
       "        [ -1.76414055e-04,   9.78006393e-17,  -1.38585377e-05,\n",
       "          -1.76414058e-04,   2.48765011e-14,  -1.19962189e-05,\n",
       "           2.49487149e-04]]),\n",
       " {'fjac': array([[  7.77115205e+01,   3.22012151e-42,   1.06178302e-40,\n",
       "            3.28137783e-39,   9.50447179e-38,   2.58015034e-36,\n",
       "            6.56448956e-35,   1.56526939e-33,   3.49785858e-32,\n",
       "            7.32542476e-31,   1.43771462e-29,   2.64431530e-28,\n",
       "            4.55769483e-27,   7.36137345e-26,   1.11414961e-24,\n",
       "            1.58011216e-23,   2.09980957e-22,   2.61460705e-21,\n",
       "            3.05037600e-20,   3.33430664e-19,   3.41465197e-18,\n",
       "            3.27610824e-17,   2.94456750e-16,   2.47922026e-15,\n",
       "            1.95531141e-14,   1.44443726e-13,   9.99391300e-13,\n",
       "            6.47583785e-12,   3.92957923e-11,   2.23279211e-10,\n",
       "            1.18784810e-09,   5.91612331e-09,   2.75819401e-08,\n",
       "            1.20355127e-07,   4.91461604e-07,   1.87768825e-06,\n",
       "            6.71086954e-06,   2.24313064e-05,   7.01024973e-05,\n",
       "            2.04775564e-04,   5.58889655e-04,   1.42456886e-03,\n",
       "            3.38934887e-03,   7.52209023e-03,   1.55594969e-02,\n",
       "            2.99667747e-02,   5.36656816e-02,   8.92089247e-02,\n",
       "            1.37325118e-01,   1.95112692e-01,   2.54632139e-01,\n",
       "            3.02955001e-01,   3.24515332e-01,   3.05702765e-01,\n",
       "            2.40320229e-01,   1.33545382e-01,   2.17207933e-03,\n",
       "           -1.29610138e-01,  -2.37486108e-01,  -3.04338025e-01,\n",
       "           -3.24596619e-01,  -3.04141732e-01,  -2.56429996e-01,\n",
       "           -1.97045544e-01,  -1.39050940e-01,  -9.05565785e-02,\n",
       "           -5.46081595e-02,  -3.05648334e-02,  -1.59066119e-02,\n",
       "           -7.70734140e-03,  -3.48059539e-03,  -1.46616131e-03,\n",
       "           -5.76470584e-04,  -2.11677734e-04,  -7.26224397e-05,\n",
       "           -2.32877449e-05,  -6.98205272e-06,  -1.95774354e-06,\n",
       "           -5.13507605e-07,  -1.26021384e-07,  -2.89417334e-08],\n",
       "         [ -8.58384596e-15,  -6.73001509e+01,   1.18892411e-39,\n",
       "            3.60627743e-38,   1.02485134e-36,   2.72864695e-35,\n",
       "            6.80621787e-34,   1.59046050e-32,   3.48164228e-31,\n",
       "            7.13960870e-30,   1.37144207e-28,   2.46760734e-27,\n",
       "            4.15864382e-26,   6.56424498e-25,   9.70407443e-24,\n",
       "            1.34349829e-22,   1.74184489e-21,   2.11468196e-20,\n",
       "            2.40389603e-19,   2.55853231e-18,   2.54939893e-17,\n",
       "            2.37804816e-16,   2.07635028e-15,   1.69681864e-14,\n",
       "            1.29771361e-13,   9.28710413e-13,   6.21847966e-12,\n",
       "            3.89519620e-11,   2.28217004e-10,   1.25044660e-09,\n",
       "            6.40615193e-09,   3.06796837e-08,   1.37316039e-07,\n",
       "            5.74235729e-07,   2.24297154e-06,   8.18030107e-06,\n",
       "            2.78452942e-05,   8.84238543e-05,   2.61810793e-04,\n",
       "            7.22322710e-04,   1.85556327e-03,   4.43438417e-03,\n",
       "            9.84772557e-03,   2.02960543e-02,   3.87570722e-02,\n",
       "            6.84320218e-02,   1.11425950e-01,   1.66731444e-01,\n",
       "            2.28193305e-01,   2.83772422e-01,   3.17552815e-01,\n",
       "            3.15014357e-01,   2.70161386e-01,   1.91128075e-01,\n",
       "            1.00432323e-01,   2.81262523e-02,   7.19715628e-06,\n",
       "            2.64385199e-02,   9.76740997e-02,   1.88257987e-01,\n",
       "            2.68077965e-01,   3.14232788e-01,   3.18095575e-01,\n",
       "            2.85277751e-01,   2.30139617e-01,   1.68650092e-01,\n",
       "            1.13020928e-01,   6.95951942e-02,   3.95162865e-02,\n",
       "            2.07448214e-02,   1.00897758e-02,   4.55413651e-03,\n",
       "            1.91011326e-03,   7.45266555e-04,   2.70740719e-04,\n",
       "            9.16455938e-05,   2.89242400e-05,   8.51609449e-06,\n",
       "            2.34018383e-06,   6.00435310e-07,   1.43893941e-07],\n",
       "         [ -5.66714582e-11,  -3.14100767e-10,   5.11971333e+01,\n",
       "            5.93761677e-12,   1.30969414e-10,   2.37453410e-09,\n",
       "            3.53670935e-08,   4.32455093e-07,   4.33751509e-06,\n",
       "            3.56485252e-05,   2.39746808e-04,   1.31703235e-03,\n",
       "            5.89543166e-03,   2.14300964e-02,   6.29414418e-02,\n",
       "            1.48199739e-01,   2.76063064e-01,   3.96755177e-01,\n",
       "            4.15385888e-01,   2.61592863e-01,  -2.44445010e-02,\n",
       "           -2.97477254e-01,  -4.23106586e-01,  -3.81750597e-01,\n",
       "           -2.54259842e-01,  -1.31349585e-01,  -5.38243868e-02,\n",
       "           -1.77086038e-02,  -4.71198572e-03,  -1.01879433e-03,\n",
       "           -1.79570966e-04,  -2.58617148e-05,  -3.04855232e-06,\n",
       "           -2.94517370e-07,  -2.33426217e-08,  -1.51900610e-09,\n",
       "           -8.12123250e-11,  -3.56863302e-12,  -1.27319533e-13,\n",
       "            8.17470436e-16,   1.18962054e-14,   2.87501503e-14,\n",
       "            6.41013098e-14,   1.32706133e-13,   2.54736878e-13,\n",
       "            4.52540240e-13,   7.42250323e-13,   1.12051859e-12,\n",
       "            1.55043031e-12,   1.95499445e-12,   2.22788547e-12,\n",
       "            2.26581052e-12,   2.01479848e-12,   1.50963497e-12,\n",
       "            8.81458555e-13,   3.20169125e-13,   2.44806636e-15,\n",
       "            1.85774346e-14,   3.35740663e-13,   8.16880385e-13,\n",
       "            1.28362265e-12,   1.58911342e-12,   1.66559108e-12,\n",
       "            1.53019650e-12,   1.25647736e-12,   9.33320326e-13,\n",
       "            6.32192262e-13,   3.92674887e-13,   2.24564323e-13,\n",
       "            1.18601078e-13,   5.79813606e-14,   2.62865932e-14,\n",
       "            1.10678024e-14,   4.33296779e-15,   1.57881460e-15,\n",
       "            5.35861080e-16,   1.69530013e-16,   5.00227382e-17,\n",
       "            1.37731036e-17,   3.54019398e-18,   8.49798880e-19],\n",
       "         [ -1.64374706e-10,  -8.97618694e-10,  -4.16077209e-15,\n",
       "           -4.43380181e+01,   7.46208519e-10,   1.26793116e-08,\n",
       "            1.76192900e-07,   1.99965417e-06,   1.85042057e-05,\n",
       "            1.39321956e-04,   8.51182067e-04,   4.20457825e-03,\n",
       "            1.67111340e-02,   5.30762819e-02,   1.33363057e-01,\n",
       "            2.60975275e-01,   3.87343079e-01,   4.14697575e-01,\n",
       "            2.85515212e-01,   8.61885226e-02,   6.94167493e-04,\n",
       "            1.14906898e-01,   3.14852533e-01,   4.20696119e-01,\n",
       "            3.71191846e-01,   2.38762712e-01,   1.17102423e-01,\n",
       "            4.48649653e-02,   1.36241686e-02,   3.31032697e-03,\n",
       "            6.47736327e-04,   1.02541863e-04,   1.31785254e-05,\n",
       "            1.37856317e-06,   1.17614761e-07,   8.19731713e-09,\n",
       "            4.67326518e-10,   2.18139545e-11,   8.29083502e-13,\n",
       "            1.07748603e-14,  -3.90491691e-14,  -9.52463002e-14,\n",
       "           -2.12388159e-13,  -4.39720464e-13,  -8.44117520e-13,\n",
       "           -1.49967784e-12,  -2.45995009e-12,  -3.71395978e-12,\n",
       "           -5.13951467e-12,  -6.48157018e-12,  -7.38773336e-12,\n",
       "           -7.51543261e-12,  -6.68528399e-12,  -5.01186250e-12,\n",
       "           -2.92909381e-12,  -1.06596313e-12,  -8.20125767e-15,\n",
       "           -5.57974636e-14,  -1.10116799e-12,  -2.69127143e-12,\n",
       "           -4.23575850e-12,  -5.24813750e-12,  -5.50345722e-12,\n",
       "           -5.05778408e-12,  -4.15405816e-12,  -3.08622508e-12,\n",
       "           -2.09077681e-12,  -1.29879634e-12,  -7.42829633e-13,\n",
       "           -3.92347540e-13,  -1.91822423e-13,  -8.69700826e-14,\n",
       "           -3.66199988e-14,  -1.43370926e-14,  -5.22424188e-15,\n",
       "           -1.77320540e-15,  -5.61004803e-16,  -1.65538604e-16,\n",
       "           -4.55800044e-17,  -1.17159999e-17,  -2.81240177e-18],\n",
       "         [ -7.75807418e-09,  -4.31470375e+00,  -2.64714917e-11,\n",
       "           -3.28385703e+00,  -7.18328717e+00,   1.39212024e-01,\n",
       "            1.39211922e-01,   1.39210779e-01,   1.39200392e-01,\n",
       "            1.39123982e-01,   1.38671041e-01,   1.36521224e-01,\n",
       "            1.28425390e-01,   1.04575897e-01,   5.09168404e-02,\n",
       "           -3.70555291e-02,  -1.30216907e-01,  -1.63331950e-01,\n",
       "           -8.88858013e-02,   5.13953876e-02,   1.42201023e-01,\n",
       "            1.12098056e-01,   1.03467046e-02,  -5.85318980e-02,\n",
       "           -4.67575565e-02,   1.51078828e-02,   7.68693129e-02,\n",
       "            1.14921412e-01,   1.31743027e-01,   1.37379698e-01,\n",
       "            1.38850738e-01,   1.39154456e-01,   1.39204491e-01,\n",
       "            1.39210809e-01,   1.39210237e-01,   1.39205713e-01,\n",
       "            1.39190495e-01,   1.39143487e-01,   1.39008566e-01,\n",
       "            1.38649099e-01,   1.37761350e-01,   1.35732843e-01,\n",
       "            1.31454150e-01,   1.23148410e-01,   1.08370740e-01,\n",
       "            8.44094477e-02,   4.93003268e-02,   3.43336497e-03,\n",
       "           -4.87388186e-02,  -9.79049048e-02,  -1.31183852e-01,\n",
       "           -1.36032845e-01,  -1.05848903e-01,  -4.47555355e-02,\n",
       "            3.14496306e-02,   9.98111174e-02,   1.38904327e-01,\n",
       "            1.37694236e-01,   1.00006750e-01,   4.22929765e-02,\n",
       "           -1.39432464e-02,  -5.09394141e-02,  -6.04394253e-02,\n",
       "           -4.44255089e-02,  -1.17039653e-02,   2.70393344e-02,\n",
       "            6.31932708e-02,   9.19755787e-02,   1.12189481e-01,\n",
       "            1.24936501e-01,   1.32231443e-01,   1.36046667e-01,\n",
       "            1.37879046e-01,   1.38690099e-01,   1.39021828e-01,\n",
       "            1.39147468e-01,   1.39191603e-01,   1.39206003e-01,\n",
       "            1.39210372e-01,   1.39211605e-01,   1.39211929e-01],\n",
       "         [ -1.46331939e-18,  -1.52547815e+00,  -9.05273547e-12,\n",
       "            2.98421197e-11,  -4.58145856e-01,   2.10814363e+00,\n",
       "            2.65567809e-02,   2.65565629e-02,   2.65545816e-02,\n",
       "            2.65400051e-02,   2.64535998e-02,   2.60434896e-02,\n",
       "            2.44990869e-02,   1.99494351e-02,   9.71315790e-03,\n",
       "           -7.06890299e-03,  -2.48408458e-02,  -3.11580414e-02,\n",
       "           -1.69563118e-02,   9.80444801e-03,   2.71269973e-02,\n",
       "            2.13844008e-02,   1.97379048e-03,  -1.11658454e-02,\n",
       "           -8.91971155e-03,   2.88205729e-03,   1.46639848e-02,\n",
       "            2.19229987e-02,   2.51319764e-02,   2.62072574e-02,\n",
       "            2.64878842e-02,   2.65458399e-02,   2.65554588e-02,\n",
       "            2.65569659e-02,   2.65580046e-02,   2.65612040e-02,\n",
       "            2.65716724e-02,   2.66035929e-02,   2.66938546e-02,\n",
       "            2.69300875e-02,   2.75009607e-02,   2.87707068e-02,\n",
       "            3.13586850e-02,   3.61615891e-02,   4.41983656e-02,\n",
       "            5.61249280e-02,   7.13308808e-02,   8.67652364e-02,\n",
       "            9.60255287e-02,   8.95894710e-02,   5.70135601e-02,\n",
       "           -8.83179288e-03,  -1.06767686e-01,  -2.24053313e-01,\n",
       "           -3.37441061e-01,  -4.19436886e-01,  -4.47843764e-01,\n",
       "           -4.14377830e-01,  -3.28077102e-01,  -2.11718374e-01,\n",
       "           -9.30774476e-02,   4.65206252e-03,   6.90638263e-02,\n",
       "            9.94703466e-02,   1.03504877e-01,   9.20102673e-02,\n",
       "            7.47459140e-02,   5.81922702e-02,   4.53630602e-02,\n",
       "            3.67726571e-02,   3.16574093e-02,   2.89068317e-02,\n",
       "            2.75588030e-02,   2.69530136e-02,   2.67023331e-02,\n",
       "            2.66065192e-02,   2.65726153e-02,   2.65614886e-02,\n",
       "            2.65580971e-02,   2.65571358e-02,   2.65568823e-02],\n",
       "         [ -4.02402176e-13,  -2.26654612e-12,  -5.50667200e-16,\n",
       "           -1.16101879e+00,  -2.65381268e-01,  -5.76731710e-02,\n",
       "            1.61931339e+00,   2.04312674e-02,   2.04409147e-02,\n",
       "            2.05105143e-02,   2.09125575e-02,   2.27540154e-02,\n",
       "            2.93374818e-02,   4.71980236e-02,   8.17928801e-02,\n",
       "            1.21336724e-01,   1.17539861e-01,   1.20235693e-03,\n",
       "           -2.41629031e-01,  -4.99921857e-01,  -5.95805856e-01,\n",
       "           -4.53328972e-01,  -1.80400384e-01,   4.46716631e-02,\n",
       "            1.34403900e-01,   1.21597473e-01,   7.75034789e-02,\n",
       "            4.40211678e-02,   2.79338156e-02,   2.23098181e-02,\n",
       "            2.08057854e-02,   2.04904795e-02,   2.04379226e-02,\n",
       "            2.04308544e-02,   2.04299256e-02,   2.04292481e-02,\n",
       "            2.04272125e-02,   2.04209344e-02,   2.04028956e-02,\n",
       "            2.03547707e-02,   2.02357298e-02,   1.99631944e-02,\n",
       "            1.93869693e-02,   1.82650556e-02,   1.62612101e-02,\n",
       "            1.29952938e-02,   8.17547030e-03,   1.81151100e-03,\n",
       "           -5.55326415e-03,  -1.27239478e-02,  -1.80060880e-02,\n",
       "           -1.97035651e-02,  -1.68485835e-02,  -9.84086554e-03,\n",
       "           -5.99998411e-04,   7.98919982e-03,   1.31817017e-02,\n",
       "            1.35158247e-02,   9.40470786e-03,   2.86909669e-03,\n",
       "           -3.41929974e-03,  -7.25741039e-03,  -7.64592605e-03,\n",
       "           -4.88044687e-03,  -1.11915367e-04,   5.28707422e-03,\n",
       "            1.02259448e-02,   1.41151383e-02,   1.68282541e-02,\n",
       "            1.85315667e-02,   1.95033256e-02,   2.00104076e-02,\n",
       "            2.02535397e-02,   2.03610170e-02,   2.04049322e-02,\n",
       "            2.04215515e-02,   2.04273859e-02,   2.04292885e-02,\n",
       "            2.04298654e-02,   2.04300282e-02,   2.04300710e-02]]),\n",
       "  'fvec': array([ 0.05885901, -0.03443562, -0.11011587, -0.01940907,  0.12395808,\n",
       "          0.13424076, -0.15294983, -0.06201307, -0.10506494,  0.09979257,\n",
       "          0.13662589, -0.11688713, -0.104854  , -0.17888337, -0.00267047,\n",
       "          0.02949929, -0.02124758, -0.11585914,  0.10355276, -0.03165541,\n",
       "          0.13842896, -0.14473322, -0.03331423, -0.01775269,  0.11428759,\n",
       "          0.08956245,  0.07306119, -0.1120739 ,  0.08003354, -0.07417076,\n",
       "          0.03347208, -0.00971099, -0.05268422, -0.08975256, -0.01576784,\n",
       "          0.14530475,  0.12197921,  0.06596163, -0.00896781,  0.10515398,\n",
       "         -0.21323956,  0.11956523, -0.08529091,  0.04394779,  0.13944544,\n",
       "         -0.1148499 , -0.06071891, -0.0129124 , -0.00462943, -0.09416902,\n",
       "          0.04241037, -0.15409817,  0.1718635 , -0.05398972, -0.01280042,\n",
       "          0.18619932, -0.00637506, -0.19785717,  0.08863443, -0.06240129,\n",
       "         -0.07678902,  0.07640933, -0.0306933 ,  0.27578279, -0.15101373,\n",
       "         -0.07647197, -0.00349033,  0.11798064,  0.20617613,  0.09909039,\n",
       "          0.02048224, -0.1611215 ,  0.0638135 , -0.10762113, -0.02318155,\n",
       "          0.00790409,  0.07861566,  0.03843157, -0.17864692,  0.00333865,\n",
       "          0.06347033]),\n",
       "  'ipvt': array([5, 6, 2, 3, 7, 4, 1], dtype=int32),\n",
       "  'nfev': 9,\n",
       "  'njev': 8,\n",
       "  'qtf': array([  7.52170746e-06,  -8.41491816e-07,  -3.34507818e-05,\n",
       "           3.68352993e-05,  -1.63222520e-05,  -4.16255587e-06,\n",
       "           2.35419620e-05])},\n",
       " 'Both actual and predicted relative reductions in the sum of squares\\n  are at most 0.000000',\n",
       " 1)"
      ]
     },
     "execution_count": 17,
     "metadata": {},
     "output_type": "execute_result"
    }
   ],
   "source": [
    "curve_fit(test_func, x, y, p0=pguess, full_output=True, jac=test_func_jac)"
   ]
  },
  {
   "cell_type": "code",
   "execution_count": 18,
   "metadata": {},
   "outputs": [
    {
     "name": "stdout",
     "output_type": "stream",
     "text": [
      "902 µs ± 5.56 µs per loop (mean ± std. dev. of 7 runs, 1000 loops each)\n",
      "1.58 ms ± 9.62 µs per loop (mean ± std. dev. of 7 runs, 1000 loops each)\n"
     ]
    }
   ],
   "source": [
    "%timeit curve_fit(test_func, x, y, p0=pguess, full_output=True, jac=test_func_jac)\n",
    "%timeit lm_ls(test_func, x, y, pguess, test_func_jac)"
   ]
  },
  {
   "cell_type": "code",
   "execution_count": 19,
   "metadata": {},
   "outputs": [],
   "source": [
    "%lprun -f lm_ls lm_ls(test_func, x, y, pguess, test_func_jac)"
   ]
  },
  {
   "cell_type": "markdown",
   "metadata": {},
   "source": [
    "# Matching the calling\n",
    "\n",
    "I want to match the call signature of [`curve_fit`](https://docs.scipy.org/doc/scipy/reference/generated/scipy.optimize.curve_fit.html)\n",
    "\n",
    "```python\n",
    "popt, pcov, infodict, errmsg, ier = curve_fit(\n",
    "    model_ravel, (xx, yy), data.ravel(), p0=guess_params,\n",
    "    bounds=bounds, full_output=True, jac=self.model_jac)\n",
    "```"
   ]
  },
  {
   "cell_type": "code",
   "execution_count": 20,
   "metadata": {
    "collapsed": true
   },
   "outputs": [],
   "source": [
    "def chi2_ls(f):\n",
    "    \"\"\"$\\chi^2_ls$\"\"\"\n",
    "    return 0.5 * (f**2).sum(0)\n",
    "\n",
    "def update_ls(x0, f, Dfun):\n",
    "    \"\"\"should use partials inside lm_ls\"\"\"\n",
    "    # calculate the jacobian\n",
    "    # j shape (ndata, nparams)\n",
    "    j = Dfun(x0)\n",
    "    # calculate the linear term of Hessian\n",
    "    # a shape (nparams, nparams)\n",
    "    a = j.T @ j\n",
    "    # calculate the gradient\n",
    "    # g shape (nparams,)\n",
    "    g = j.T @ f\n",
    "    return j, a, g\n",
    "\n",
    "def chi2_mle(f):\n",
    "    \"\"\"$\\chi^2_ls$\"\"\"\n",
    "    f, y = f\n",
    "    if f.min() <= 0:\n",
    "        # this is not allowed so make chi2\n",
    "        # large to avoid\n",
    "        return np.inf\n",
    "    part1 = 2 * (f - y).sum()\n",
    "    part2 = - 2 * (y * np.log(f / y))[y > 0].sum()\n",
    "    return part1 + part2\n",
    "\n",
    "def update_mle(x0, f, Dfun):\n",
    "    \"\"\"should use partials inside lm_ls\"\"\"\n",
    "    # calculate the jacobian\n",
    "    # j shape (ndata, nparams)\n",
    "    f, y = f\n",
    "    j = Dfun(x0)\n",
    "    # calculate the linear term of Hessian\n",
    "    # a shape (nparams, nparams)\n",
    "    a = j.T @ j\n",
    "    # calculate the gradient\n",
    "    # g shape (nparams,)\n",
    "    g = j.T @ f\n",
    "    return j, a, g\n",
    "\n",
    "def _wrap_func_mle(func, xdata, ydata, transform):\n",
    "    \"\"\"Returns f and xdata\"\"\"\n",
    "    if transform is None:\n",
    "        def func_wrapped(params):\n",
    "            return func(xdata, *params), ydata\n",
    "    elif transform.ndim == 1:\n",
    "        raise NotImplementedError\n",
    "    else:\n",
    "        # Chisq = (y - yd)^T C^{-1} (y-yd)\n",
    "        # transform = L such that C = L L^T\n",
    "        # C^{-1} = L^{-T} L^{-1}\n",
    "        # Chisq = (y - yd)^T L^{-T} L^{-1} (y-yd)\n",
    "        # Define (y-yd)' = L^{-1} (y-yd)\n",
    "        # by solving\n",
    "        # L (y-yd)' = (y-yd)\n",
    "        # and minimize (y-yd)'^T (y-yd)'\n",
    "        raise NotImplementedError\n",
    "    return func_wrapped\n",
    "\n",
    "\n",
    "def _wrap_jac_mle(jac, xdata, transform):\n",
    "    if transform is None:\n",
    "        def jac_wrapped(params):\n",
    "            return jac(xdata, *params)\n",
    "    elif transform.ndim == 1:\n",
    "        raise NotImplementedError\n",
    "    else:\n",
    "        raise NotImplementedError\n",
    "    return jac_wrapped\n",
    "\n",
    "def leastsq_ls(func, x0, args=(), Dfun=None, full_output=False,\n",
    "                col_deriv=True, ftol=1.49012e-8, xtol=1.49012e-8,\n",
    "                gtol=0.0, maxfev=None, epsfcn=None, factor=100, diag=None):\n",
    "    \"\"\"A more thorough implementation of levenburg-marquet\n",
    "    for gaussian Noise\n",
    "    ::\n",
    "        x = arg min(sum(func(y)**2,axis=0))\n",
    "                 y\n",
    "    Parameters\n",
    "    ----------\n",
    "    func : callable\n",
    "        should take at least one (possibly length N vector) argument and\n",
    "        returns M floating point numbers. It must not return NaNs or\n",
    "        fitting might fail.\n",
    "    x0 : ndarray\n",
    "        The starting estimate for the minimization.\n",
    "    args : tuple, optional\n",
    "        Any extra arguments to func are placed in this tuple.\n",
    "    Dfun : callable, optional\n",
    "        A function or method to compute the Jacobian of func with derivatives\n",
    "        across the rows. If this is None, the Jacobian will be estimated.\n",
    "    full_output : bool, optional\n",
    "        non-zero to return all optional outputs.\n",
    "    col_deriv : bool, optional\n",
    "        non-zero to specify that the Jacobian function computes derivatives\n",
    "        down the columns (faster, because there is no transpose operation).\n",
    "    ftol : float, optional\n",
    "        Relative error desired in the sum of squares.\n",
    "    xtol : float, optional\n",
    "        Relative error desired in the approximate solution.\n",
    "    gtol : float, optional\n",
    "        Orthogonality desired between the function vector and the columns of\n",
    "        the Jacobian.\n",
    "    maxfev : int, optional\n",
    "        The maximum number of calls to the function. If `Dfun` is provided\n",
    "        then the default `maxfev` is 100*(N+1) where N is the number of elements\n",
    "        in x0, otherwise the default `maxfev` is 200*(N+1).\n",
    "    epsfcn : float, optional\n",
    "        A variable used in determining a suitable step length for the forward-\n",
    "        difference approximation of the Jacobian (for Dfun=None).\n",
    "        Normally the actual step length will be sqrt(epsfcn)*x\n",
    "        If epsfcn is less than the machine precision, it is assumed that the\n",
    "        relative errors are of the order of the machine precision.\n",
    "    factor : float, optional\n",
    "        A parameter determining the initial step bound\n",
    "        (``factor * || diag * x||``). Should be in interval ``(0.1, 100)``.\n",
    "    diag : sequence, optional\n",
    "        N positive entries that serve as a scale factors for the variables.\n",
    "    \"\"\"\n",
    "    \n",
    "    x0 = np.asarray(x0).flatten()\n",
    "    n = len(x0)\n",
    "    if not isinstance(args, tuple):\n",
    "        args = (args,)\n",
    "#     shape, dtype = _check_func('leastsq', 'func', func, x0, args, n)\n",
    "#     m = shape[0]\n",
    "#     if n > m:\n",
    "#         raise TypeError('Improper input: N=%s must not exceed M=%s' % (n, m))\n",
    "    if Dfun is None:\n",
    "        raise NotImplementedError\n",
    "        if epsfcn is None:\n",
    "            epsfcn = np.finfo(dtype).eps\n",
    "    else:\n",
    "        if col_deriv:\n",
    "            pass\n",
    "#             _check_func('leastsq', 'Dfun', Dfun, x0, args, n, (n, m))\n",
    "        else:\n",
    "            raise NotImplementedError(\"Column derivatives required\")\n",
    "        if maxfev is None:\n",
    "            maxfev = 100 * (n + 1)\n",
    "\n",
    "    errors = {0: [\"Improper input parameters.\", TypeError],\n",
    "              1: [\"Both actual and predicted relative reductions \"\n",
    "                  \"in the sum of squares\\n  are at most %f\" % ftol, None],\n",
    "              2: [\"The relative error between two consecutive \"\n",
    "                  \"iterates is at most %f\" % xtol, None],\n",
    "              3: [\"Both actual and predicted relative reductions in \"\n",
    "                  \"the sum of squares\\n  are at most %f and the \"\n",
    "                  \"relative error between two consecutive \"\n",
    "                  \"iterates is at \\n  most %f\" % (ftol, xtol), None],\n",
    "              4: [\"The cosine of the angle between func(x) and any \"\n",
    "                  \"column of the\\n  Jacobian is at most %f in \"\n",
    "                  \"absolute value\" % gtol, None],\n",
    "              5: [\"Number of calls to function has reached \"\n",
    "                  \"maxfev = %d.\" % maxfev, ValueError],\n",
    "              6: [\"ftol=%f is too small, no further reduction \"\n",
    "                  \"in the sum of squares\\n  is possible.\"\"\" % ftol,\n",
    "                  ValueError],\n",
    "              7: [\"xtol=%f is too small, no further improvement in \"\n",
    "                  \"the approximate\\n  solution is possible.\" % xtol,\n",
    "                  ValueError],\n",
    "              8: [\"gtol=%f is too small, func(x) is orthogonal to the \"\n",
    "                  \"columns of\\n  the Jacobian to machine \"\n",
    "                  \"precision.\" % gtol, ValueError],\n",
    "              'unknown': [\"Unknown error.\", TypeError]}\n",
    "    \n",
    "    if maxfev is None:\n",
    "        maxfev = 100 * (len(p0) + 1)\n",
    "\n",
    "#     gtest = lambda g : npla.norm(g, np.inf) <= gtol\n",
    "    def gtest(g):\n",
    "        if gtol:\n",
    "            return np.abs(g).max() <= gtol\n",
    "        else:\n",
    "            return False\n",
    "    def xtest(dp, p):\n",
    "        norm_dp = la.norm(dp)\n",
    "        return norm_dp <= xtol * (norm_dp + xtol)\n",
    "    \n",
    "    # need residuals\n",
    "    def update(x0, f):\n",
    "        \"\"\"should use partials inside lm_ls\"\"\"\n",
    "        return update_ls(x0, f, Dfun)\n",
    "\n",
    "    f = func(x0)\n",
    "    j, a, g = update(x0, f)\n",
    "    \n",
    "    chisq_old = chi2_ls(f)\n",
    "    \n",
    "    lam = factor * np.diagonal(a).max()\n",
    "    \n",
    "    x = x0\n",
    "    \n",
    "    for ev in range(maxfev):\n",
    "        if gtest(g):\n",
    "            break\n",
    "        # calculate proposed step\n",
    "        aug_a = a + np.diag(np.ones_like(g) * lam)\n",
    "        dx = -la.inv(aug_a) @ g\n",
    "        if xtest(dx, x):\n",
    "            break\n",
    "        # make test move, I think I should be saving previous\n",
    "        # position so that I can \"undo\" if this is bad\n",
    "        x = x0 + dx\n",
    "        f = func(x)\n",
    "        chisq_new = chi2_ls(f)\n",
    "        # see if we reduced chisq, note we should do more here\n",
    "        rho = chisq_old - chisq_new\n",
    "        if rho > 0:\n",
    "            if rho <= ftol * chisq_old:\n",
    "                break\n",
    "            # update params, chisq and a and g\n",
    "            x0 = x\n",
    "            chisq_old = chisq_new\n",
    "            j, a, g = update(x0, f)\n",
    "            lam /= factor\n",
    "        else:\n",
    "            lam *= factor\n",
    "            \n",
    "    infodict = dict(fvec=f, nfev=ev)\n",
    "    popt, pcov, errmsg, ier = x, None, None, 1\n",
    "    if full_output:\n",
    "        return popt, pcov, infodict, errmsg, ier\n",
    "    else:\n",
    "        return popt, pcov"
   ]
  },
  {
   "cell_type": "code",
   "execution_count": 21,
   "metadata": {
    "collapsed": true
   },
   "outputs": [],
   "source": [
    "def _wrap_func_ls(func, xdata, ydata, transform):\n",
    "    if transform is None:\n",
    "        def func_wrapped(params):\n",
    "            return func(xdata, *params) - ydata\n",
    "    elif transform.ndim == 1:\n",
    "        def func_wrapped(params):\n",
    "            return transform * (func(xdata, *params) - ydata)\n",
    "    else:\n",
    "        # Chisq = (y - yd)^T C^{-1} (y-yd)\n",
    "        # transform = L such that C = L L^T\n",
    "        # C^{-1} = L^{-T} L^{-1}\n",
    "        # Chisq = (y - yd)^T L^{-T} L^{-1} (y-yd)\n",
    "        # Define (y-yd)' = L^{-1} (y-yd)\n",
    "        # by solving\n",
    "        # L (y-yd)' = (y-yd)\n",
    "        # and minimize (y-yd)'^T (y-yd)'\n",
    "        def func_wrapped(params):\n",
    "            return solve_triangular(transform, func(xdata, *params) - ydata, lower=True)\n",
    "    return func_wrapped\n",
    "\n",
    "\n",
    "def _wrap_jac_ls(jac, xdata, transform):\n",
    "    if transform is None:\n",
    "        def jac_wrapped(params):\n",
    "            return jac(xdata, *params)\n",
    "    elif transform.ndim == 1:\n",
    "        def jac_wrapped(params):\n",
    "            return transform[:, np.newaxis] * np.asarray(jac(xdata, *params))\n",
    "    else:\n",
    "        def jac_wrapped(params):\n",
    "            return solve_triangular(transform, np.asarray(jac(xdata, *params)), lower=True)\n",
    "    return jac_wrapped\n",
    "\n",
    "def curve_fit_ls(f, xdata, ydata, p0=None, sigma=None, absolute_sigma=False,\n",
    "                  check_finite=True, bounds=(-np.inf, np.inf), method=None,\n",
    "                  jac=None, **kwargs):\n",
    "    \"\"\"\n",
    "    Use non-linear least squares to fit a function, f, to data.\n",
    "    Assumes ``ydata = poisson(f(xdata, *params))``\n",
    "    Parameters\n",
    "    ----------\n",
    "    f : callable\n",
    "        The model function, f(x, ...).  It must take the independent\n",
    "        variable as the first argument and the parameters to fit as\n",
    "        separate remaining arguments.\n",
    "    xdata : An M-length sequence or an (k,M)-shaped array for functions with k predictors\n",
    "        The independent variable where the data is measured.\n",
    "    ydata : M-length sequence\n",
    "        The dependent data --- nominally f(xdata, ...)\n",
    "    p0 : None, scalar, or N-length sequence, optional\n",
    "        Initial guess for the parameters.  If None, then the initial\n",
    "        values will all be 1 (if the number of parameters for the function\n",
    "        can be determined using introspection, otherwise a ValueError\n",
    "        is raised).\n",
    "    sigma : None or M-length sequence or MxM array, optional\n",
    "        Determines the uncertainty in `ydata`. If we define residuals as\n",
    "        ``r = ydata - f(xdata, *popt)``, then the interpretation of `sigma`\n",
    "        depends on its number of dimensions:\n",
    "            - A 1-d `sigma` should contain values of standard deviations of\n",
    "              errors in `ydata`. In this case, the optimized function is\n",
    "              ``chisq = sum((r / sigma) ** 2)``.\n",
    "            - A 2-d `sigma` should contain the covariance matrix of\n",
    "              errors in `ydata`. In this case, the optimized function is\n",
    "              ``chisq = r.T @ inv(sigma) @ r``.\n",
    "              .. versionadded:: 0.19\n",
    "        None (default) is equivalent of 1-d `sigma` filled with ones.\n",
    "    absolute_sigma : bool, optional\n",
    "        If True, `sigma` is used in an absolute sense and the estimated parameter\n",
    "        covariance `pcov` reflects these absolute values.\n",
    "        If False, only the relative magnitudes of the `sigma` values matter.\n",
    "        The returned parameter covariance matrix `pcov` is based on scaling\n",
    "        `sigma` by a constant factor. This constant is set by demanding that the\n",
    "        reduced `chisq` for the optimal parameters `popt` when using the\n",
    "        *scaled* `sigma` equals unity. In other words, `sigma` is scaled to\n",
    "        match the sample variance of the residuals after the fit.\n",
    "        Mathematically,\n",
    "        ``pcov(absolute_sigma=False) = pcov(absolute_sigma=True) * chisq(popt)/(M-N)``\n",
    "    check_finite : bool, optional\n",
    "        If True, check that the input arrays do not contain nans of infs,\n",
    "        and raise a ValueError if they do. Setting this parameter to\n",
    "        False may silently produce nonsensical results if the input arrays\n",
    "        do contain nans. Default is True.\n",
    "    bounds : 2-tuple of array_like, optional\n",
    "        Lower and upper bounds on independent variables. Defaults to no bounds.\n",
    "        Each element of the tuple must be either an array with the length equal\n",
    "        to the number of parameters, or a scalar (in which case the bound is\n",
    "        taken to be the same for all parameters.) Use ``np.inf`` with an\n",
    "        appropriate sign to disable bounds on all or some parameters.\n",
    "        .. versionadded:: 0.17\n",
    "    method : {'lm', 'trf', 'dogbox'}, optional\n",
    "        Method to use for optimization.  See `least_squares` for more details.\n",
    "        Default is 'lm' for unconstrained problems and 'trf' if `bounds` are\n",
    "        provided. The method 'lm' won't work when the number of observations\n",
    "        is less than the number of variables, use 'trf' or 'dogbox' in this\n",
    "        case.\n",
    "        .. versionadded:: 0.17\n",
    "    jac : callable, string or None, optional\n",
    "        Function with signature ``jac(x, ...)`` which computes the Jacobian\n",
    "        matrix of the model function with respect to parameters as a dense\n",
    "        array_like structure. It will be scaled according to provided `sigma`.\n",
    "        If None (default), the Jacobian will be estimated numerically.\n",
    "        String keywords for 'trf' and 'dogbox' methods can be used to select\n",
    "        a finite difference scheme, see `least_squares`.\n",
    "        .. versionadded:: 0.18\n",
    "    kwargs\n",
    "        Keyword arguments passed to `leastsq` for ``method='lm'`` or\n",
    "        `least_squares` otherwise.\"\"\"\n",
    "    \n",
    "    if p0 is None:\n",
    "        raise NotImplementedError(\"You must give a guess\")\n",
    "    if sigma is not None:\n",
    "        raise NotImplementedError(\"Weighting has not been implemented\")\n",
    "    else:\n",
    "        transform = None\n",
    "        \n",
    "    if method is None:\n",
    "        method = \"lm\"\n",
    "        \n",
    "    if jac is None:\n",
    "        raise NotImplementedError(\"You need a Jacobian\")\n",
    "        \n",
    "    # NaNs can not be handled\n",
    "    if check_finite:\n",
    "        ydata = np.asarray_chkfinite(ydata)\n",
    "    else:\n",
    "        ydata = np.asarray(ydata)\n",
    "\n",
    "    if isinstance(xdata, (list, tuple, np.ndarray)):\n",
    "        # `xdata` is passed straight to the user-defined `f`, so allow\n",
    "        # non-array_like `xdata`.\n",
    "        if check_finite:\n",
    "            xdata = np.asarray_chkfinite(xdata)\n",
    "        else:\n",
    "            xdata = np.asarray(xdata)\n",
    "            \n",
    "    func = _wrap_func_ls(f, xdata, ydata, transform)\n",
    "    if callable(jac):\n",
    "        jac = _wrap_jac_ls(jac, xdata, transform)\n",
    "    elif jac is None and method != 'lm':\n",
    "        jac = '2-point'\n",
    "\n",
    "    if method == 'lm':\n",
    "        # Remove full_output from kwargs, otherwise we're passing it in twice.\n",
    "        return_full = kwargs.pop('full_output', False)\n",
    "        res = leastsq_ls(func, p0, Dfun=jac, full_output=1, **kwargs)\n",
    "        popt, pcov, infodict, errmsg, ier = res\n",
    "        cost = np.sum(infodict['fvec'] ** 2)\n",
    "        if ier not in [1, 2, 3, 4]:\n",
    "            raise RuntimeError(\"Optimal parameters not found: \" + errmsg)\n",
    "    else:\n",
    "        raise NotImplementedError(\"The only available method is 'lm'\")\n",
    "        \n",
    "    if return_full:\n",
    "        return popt, pcov, infodict, errmsg, ier\n",
    "    else:\n",
    "        return popt, pcov"
   ]
  },
  {
   "cell_type": "code",
   "execution_count": 22,
   "metadata": {},
   "outputs": [
    {
     "name": "stdout",
     "output_type": "stream",
     "text": [
      "Wall time: 1.96 ms\n"
     ]
    }
   ],
   "source": [
    "%%time\n",
    "popt_ls, pcov, infodict, errmsg, ier = curve_fit_ls(\n",
    "    test_func, x, y, p0=pguess, full_output=True,\n",
    "    jac=test_func_jac)"
   ]
  },
  {
   "cell_type": "code",
   "execution_count": 23,
   "metadata": {},
   "outputs": [
    {
     "data": {
      "text/plain": [
       "{'fvec': array([ 0.0588594 , -0.03443522, -0.11011548, -0.01940867,  0.12395848,\n",
       "         0.13424116, -0.15294944, -0.06201268, -0.10506454,  0.09979297,\n",
       "         0.13662627, -0.11688677, -0.10485376, -0.17888344, -0.00267116,\n",
       "         0.02949788, -0.0212491 , -0.11585927,  0.10355531, -0.0316509 ,\n",
       "         0.13843233, -0.14473409, -0.03331956, -0.01775987,  0.11428154,\n",
       "         0.08955884,  0.07305967, -0.11207422,  0.08003372, -0.07417042,\n",
       "         0.03347247, -0.00971059, -0.05268382, -0.08975216, -0.01576744,\n",
       "         0.14530514,  0.12197961,  0.06596203, -0.00896741,  0.10515438,\n",
       "        -0.21323916,  0.11956562, -0.08529052,  0.04394817,  0.1394458 ,\n",
       "        -0.11484956, -0.06071861, -0.01291215, -0.00462925, -0.09416889,\n",
       "         0.04241044, -0.15409814,  0.17186353, -0.05398968, -0.01280037,\n",
       "         0.18619937, -0.00637503, -0.19785719,  0.08863435, -0.06240142,\n",
       "        -0.07678917,  0.0764092 , -0.03069337,  0.27578281, -0.15101363,\n",
       "        -0.07647177, -0.00349006,  0.11798096,  0.20617648,  0.09909077,\n",
       "         0.02048263, -0.16112111,  0.0638139 , -0.10762074, -0.02318115,\n",
       "         0.00790448,  0.07861606,  0.03843197, -0.17864652,  0.00333904,\n",
       "         0.06347073]), 'nfev': 10}"
      ]
     },
     "execution_count": 23,
     "metadata": {},
     "output_type": "execute_result"
    }
   ],
   "source": [
    "infodict"
   ]
  },
  {
   "cell_type": "code",
   "execution_count": 24,
   "metadata": {},
   "outputs": [
    {
     "data": {
      "text/plain": [
       "[<matplotlib.lines.Line2D at 0x2842a40d780>]"
      ]
     },
     "execution_count": 24,
     "metadata": {},
     "output_type": "execute_result"
    },
    {
     "data": {
      "image/png": "[encoded data removed]",
      "text/plain": [
       "<matplotlib.figure.Figure at 0x2842a40d470>"
      ]
     },
     "metadata": {},
     "output_type": "display_data"
    }
   ],
   "source": [
    "y_fit = test_func(x, *popt_ls)\n",
    "plt.plot(x, y, \".\")\n",
    "plt.plot(x, y_fit)"
   ]
  },
  {
   "cell_type": "code",
   "execution_count": 25,
   "metadata": {},
   "outputs": [
    {
     "data": {
      "text/plain": [
       "True"
      ]
     },
     "execution_count": 25,
     "metadata": {},
     "output_type": "execute_result"
    }
   ],
   "source": [
    "np.allclose(popt_ls, popt_sp)"
   ]
  },
  {
   "cell_type": "code",
   "execution_count": 26,
   "metadata": {},
   "outputs": [
    {
     "name": "stdout",
     "output_type": "stream",
     "text": [
      "1.7 ms ± 38 µs per loop (mean ± std. dev. of 7 runs, 1000 loops each)\n"
     ]
    }
   ],
   "source": [
    "%%timeit\n",
    "popt_ls, pcov, infodict, errmsg, ier = curve_fit_ls(\n",
    "    test_func, x, y, p0=pguess, full_output=True,\n",
    "    jac=test_func_jac)"
   ]
  },
  {
   "cell_type": "code",
   "execution_count": 27,
   "metadata": {},
   "outputs": [],
   "source": [
    "%lprun -f update_ls curve_fit_ls(test_func, x, y, p0=pguess, full_output=True, jac=test_func_jac)"
   ]
  },
  {
   "cell_type": "code",
   "execution_count": null,
   "metadata": {
    "collapsed": true
   },
   "outputs": [],
   "source": []
  }
 ],
 "metadata": {
  "kernelspec": {
   "display_name": "Python [default]",
   "language": "python",
   "name": "python3"
  },
  "language_info": {
   "codemirror_mode": {
    "name": "ipython",
    "version": 3
   },
   "file_extension": ".py",
   "mimetype": "text/x-python",
   "name": "python",
   "nbconvert_exporter": "python",
   "pygments_lexer": "ipython3",
   "version": "3.5.3"
  }
 },
 "nbformat": 4,
 "nbformat_minor": 2
}

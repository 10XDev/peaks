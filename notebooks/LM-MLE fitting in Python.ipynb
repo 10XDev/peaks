{
 "cells": [
  {
   "cell_type": "markdown",
   "metadata": {},
   "source": [
    "# LM-MLE fitting in Python\n",
    "\n",
    "Need to implement our own version of LM-MLE fitting in python, because you cannot simply change the $\\chi^2$ function, you also have to change the gradients.\n",
    "\n",
    "Here's a C implementation:\n",
    "http://users.ics.forth.gr/~lourakis/levmar/\n",
    "\n",
    "Basic plan is to replace the `leastsq` function, monkey patching that in instead\n",
    "\n",
    "`_wrap_func` is here: https://github.com/scipy/scipy/blob/master/scipy/optimize/minpack.py\n",
    "\n",
    "`_wrap_func` returns $\\chi_i$ where, for Gaussian noise, $\\chi_i = \\frac{f_i - x_i}{\\sigma_i}$ and $\\chi^2 = \\sum \\chi_i^2$\n",
    "\n",
    "The call function in `curve_fit` looks like this:\n",
    "```python\n",
    "    ...\n",
    "    # Determine type of sigma\n",
    "    if sigma is not None:\n",
    "        sigma = np.asarray(sigma)\n",
    "\n",
    "        # if 1-d, sigma are errors, define transform = 1/sigma\n",
    "        if sigma.shape == (ydata.size, ):\n",
    "            transform = 1.0 / sigma\n",
    "        # if 2-d, sigma is the covariance matrix,\n",
    "        # define transform = L such that L L^T = C\n",
    "        elif sigma.shape == (ydata.size, ydata.size):\n",
    "            try:\n",
    "                # scipy.linalg.cholesky requires lower=True to return L L^T = A\n",
    "                transform = cholesky(sigma, lower=True)\n",
    "            except LinAlgError:\n",
    "                raise ValueError(\"`sigma` must be positive definite.\")\n",
    "        else:\n",
    "            raise ValueError(\"`sigma` has incorrect shape.\")\n",
    "    else:\n",
    "        transform = None\n",
    "\n",
    "    func = _wrap_func(f, xdata, ydata, transform)\n",
    "    if callable(jac):\n",
    "        jac = _wrap_jac(jac, xdata, transform)\n",
    "    elif jac is None and method != 'lm':\n",
    "        jac = '2-point'\n",
    "\n",
    "    if method == 'lm':\n",
    "        # Remove full_output from kwargs, otherwise we're passing it in twice.\n",
    "        return_full = kwargs.pop('full_output', False)\n",
    "        res = leastsq(func, p0, Dfun=jac, full_output=1, **kwargs)\n",
    "        popt, pcov, infodict, errmsg, ier = res\n",
    "        cost = np.sum(infodict['fvec'] ** 2)\n",
    "        if ier not in [1, 2, 3, 4]:\n",
    "            raise RuntimeError(\"Optimal parameters not found: \" + errmsg)\n",
    "    ...\n",
    "```"
   ]
  },
  {
   "cell_type": "markdown",
   "metadata": {},
   "source": [
    "# Simple LS LM\n",
    "\n",
    "Here I attempt to implement a simple, fully pythonic, version of LM. To make life ridiculously easy I'll start with modeling an exponential equation $y = A e^{-k t} + o$."
   ]
  },
  {
   "cell_type": "code",
   "execution_count": 2,
   "metadata": {
    "collapsed": true
   },
   "outputs": [],
   "source": [
    "%matplotlib inline\n",
    "import numpy as np\n",
    "from scipy import linalg as la\n",
    "from numpy import linalg as npla\n",
    "import matplotlib.pyplot as plt\n",
    "%load_ext line_profiler"
   ]
  },
  {
   "cell_type": "markdown",
   "metadata": {},
   "source": [
    "My test function will be two gaussians\n",
    "\n",
    "$$\n",
    "y = A_0 e^{-\\frac{(x-x_0)^2}{\\sigma_0^2}} + A_1 e^{-\\frac{(x-x_1)^2}{\\sigma_1^2}} + O\n",
    "$$"
   ]
  },
  {
   "cell_type": "code",
   "execution_count": 3,
   "metadata": {
    "collapsed": true
   },
   "outputs": [],
   "source": [
    "def test_func(xdata, a0, x0, sigma0, a1, x1, sigma1, o):\n",
    "    \"\"\"An exponential decay\"\"\"\n",
    "    return a0 * np.exp(-(xdata-x0)**2 / sigma0**2) + a1 * np.exp(-(xdata-x1)**2 / sigma1**2) + o"
   ]
  },
  {
   "cell_type": "code",
   "execution_count": 4,
   "metadata": {},
   "outputs": [
    {
     "data": {
      "text/plain": [
       "[<matplotlib.lines.Line2D at 0x10f263f98>]"
      ]
     },
     "execution_count": 4,
     "metadata": {},
     "output_type": "execute_result"
    },
    {
     "data": {
      "image/png": "[encoded data removed]",
      "text/plain": [
       "<matplotlib.figure.Figure at 0x10bf00898>"
      ]
     },
     "metadata": {},
     "output_type": "display_data"
    }
   ],
   "source": [
    "x = np.linspace(0,1)\n",
    "preal = np.array([1, 0.25, .04, 2, 0.7, 0.07, 2])\n",
    "y = test_func(x, *preal)\n",
    "plt.plot(x, y)"
   ]
  },
  {
   "cell_type": "code",
   "execution_count": 25,
   "metadata": {
    "collapsed": true
   },
   "outputs": [],
   "source": [
    "def test_func_jac(xdata, a0, x0, sigma0, a1, x1, sigma1, o):\n",
    "    \"\"\"An exponential decay\"\"\"\n",
    "    dyda0 = np.exp(-(xdata-x0)**2 / sigma0**2)\n",
    "    dydx0 = 2 * a0 * (xdata-x0) * dyda0 / sigma0**2\n",
    "    dydsigma0 = dydx0 * (xdata-x0) / sigma0\n",
    "    \n",
    "    dyda1 = np.exp(-(xdata-x1)**2 / sigma1**2)\n",
    "    dydx1 = 2 * a1 * (xdata-x1) * dyda1 / sigma1**2\n",
    "    dydsigma1 = dydx1 * (xdata-x1) / sigma1\n",
    "    \n",
    "    dydo = np.ones_like(dyda0)\n",
    "    \n",
    "    return np.vstack((dyda0, dydx0, dydsigma0, dyda1, dydx1, dydsigma1, dydo)).T"
   ]
  },
  {
   "cell_type": "markdown",
   "metadata": {},
   "source": [
    "## Test fit with `scipy.optimize.curve_fit`"
   ]
  },
  {
   "cell_type": "code",
   "execution_count": 6,
   "metadata": {
    "collapsed": true
   },
   "outputs": [],
   "source": [
    "from scipy.optimize import curve_fit"
   ]
  },
  {
   "cell_type": "code",
   "execution_count": 30,
   "metadata": {},
   "outputs": [
    {
     "data": {
      "text/plain": [
       "[<matplotlib.lines.Line2D at 0x110af1f98>]"
      ]
     },
     "execution_count": 30,
     "metadata": {},
     "output_type": "execute_result"
    },
    {
     "data": {
      "image/png": "[encoded data removed]",
      "text/plain": [
       "<matplotlib.figure.Figure at 0x110ac0860>"
      ]
     },
     "metadata": {},
     "output_type": "display_data"
    }
   ],
   "source": [
    "x = np.linspace(0,1, 81)\n",
    "y = test_func(x, *preal) + 0.1*np.random.randn(len(x))\n",
    "plt.plot(x, y)"
   ]
  },
  {
   "cell_type": "code",
   "execution_count": 31,
   "metadata": {},
   "outputs": [
    {
     "data": {
      "text/plain": [
       "array([ 1.  ,  0.25,  0.04,  2.  ,  0.7 ,  0.07,  2.  ])"
      ]
     },
     "execution_count": 31,
     "metadata": {},
     "output_type": "execute_result"
    }
   ],
   "source": [
    "preal"
   ]
  },
  {
   "cell_type": "code",
   "execution_count": 52,
   "metadata": {},
   "outputs": [
    {
     "data": {
      "text/plain": [
       "[<matplotlib.lines.Line2D at 0x1112a4f60>]"
      ]
     },
     "execution_count": 52,
     "metadata": {},
     "output_type": "execute_result"
    },
    {
     "data": {
      "image/png": "[encoded data removed]",
      "text/plain": [
       "<matplotlib.figure.Figure at 0x1112a4828>"
      ]
     },
     "metadata": {},
     "output_type": "display_data"
    }
   ],
   "source": [
    "pguess = np.array([ 1.1  ,  0.23,  0.03,  2.  ,  0.65 ,  0.05 ,  1.  ])\n",
    "y_fit = test_func(x, *pguess)\n",
    "plt.plot(x, y, \".\")\n",
    "plt.plot(x, y_fit)"
   ]
  },
  {
   "cell_type": "code",
   "execution_count": 53,
   "metadata": {},
   "outputs": [
    {
     "name": "stdout",
     "output_type": "stream",
     "text": [
      "CPU times: user 1.69 ms, sys: 658 µs, total: 2.35 ms\n",
      "Wall time: 1.75 ms\n"
     ]
    }
   ],
   "source": [
    "%%time\n",
    "popt_sp, pcov, infodict, errmsg, ier = curve_fit(\n",
    "    test_func, x, y, p0=pguess, full_output=True,\n",
    "    jac=test_func_jac, col_deriv=False)"
   ]
  },
  {
   "cell_type": "code",
   "execution_count": 54,
   "metadata": {},
   "outputs": [
    {
     "data": {
      "text/plain": [
       "array([ 1.09924833,  0.24939842,  0.03466944,  2.00074504,  0.70155077,\n",
       "        0.07181681,  1.98533608])"
      ]
     },
     "execution_count": 54,
     "metadata": {},
     "output_type": "execute_result"
    }
   ],
   "source": [
    "popt_sp"
   ]
  },
  {
   "cell_type": "code",
   "execution_count": 55,
   "metadata": {},
   "outputs": [
    {
     "data": {
      "text/plain": [
       "(81, 7)"
      ]
     },
     "execution_count": 55,
     "metadata": {},
     "output_type": "execute_result"
    }
   ],
   "source": [
    "test_func_jac(x, *popt_sp).shape"
   ]
  },
  {
   "cell_type": "code",
   "execution_count": 56,
   "metadata": {},
   "outputs": [
    {
     "data": {
      "text/plain": [
       "0.6793917882005277"
      ]
     },
     "execution_count": 56,
     "metadata": {},
     "output_type": "execute_result"
    },
    {
     "data": {
      "image/png": "[encoded data removed]",
      "text/plain": [
       "<matplotlib.figure.Figure at 0x111217048>"
      ]
     },
     "metadata": {},
     "output_type": "display_data"
    }
   ],
   "source": [
    "y_fit = test_func(x, *popt_sp)\n",
    "plt.plot(x, y, \".\")\n",
    "plt.plot(x, y_fit)\n",
    "((y-y_fit)**2).sum()"
   ]
  },
  {
   "cell_type": "code",
   "execution_count": 57,
   "metadata": {},
   "outputs": [],
   "source": [
    "def chi2(y, ydata):\n",
    "    return 0.5 * ((y - ydata)**2).sum()\n",
    "\n",
    "def lm_update(xdata, f, p, jac):\n",
    "    \"\"\"should use partials inside lm_ls\"\"\"\n",
    "    # calculate the jacobian\n",
    "    # j shape (ndata, nparams)\n",
    "    j = jac(xdata, *p)\n",
    "    # calculate the linear term of Hessian\n",
    "    # a shape (nparams, nparams)\n",
    "    a = j.T @ j\n",
    "    # calculate the gradient\n",
    "    # g shape (nparams,)\n",
    "    g = j.T @ f\n",
    "    return a, g\n",
    "\n",
    "def lm_ls(func, xdata, ydata, p0, jac, ftol=1e-08, xtol=1e-08, gtol=0.0,\n",
    "         maxfev=None, factor=100):\n",
    "    \"\"\"A test implementation of levenburg-marquet\n",
    "    \n",
    "    ftol : float, optional\n",
    "        Relative error desired in the sum of squares.\n",
    "    xtol : float, optional\n",
    "        Relative error desired in the approximate solution.\n",
    "    gtol : float, optional\n",
    "        Orthogonality desired between the function vector and the\n",
    "        columns of the Jacobian.\n",
    "    \"\"\"\n",
    "    if maxfev is None:\n",
    "        maxfev = 100 * (len(p0) + 1)\n",
    "\n",
    "#     gtest = lambda g : npla.norm(g, np.inf) <= gtol\n",
    "    def gtest(g):\n",
    "        return np.abs(g).max() <= gtol\n",
    "    def xtest(dp, p):\n",
    "        norm_dp = npla.norm(dp)\n",
    "        return norm_dp <= xtol * (norm_dp + xtol)\n",
    "    # need residuals\n",
    "    y = func(xdata, *p0)\n",
    "    a, g = lm_update(xdata, y - ydata, p0, jac)\n",
    "    \n",
    "    chisq_old = chi2(y, ydata)\n",
    "    lam = factor * np.diagonal(a).max()\n",
    "    p = p0\n",
    "    for ev in range(maxfev):\n",
    "        if gtest(g):\n",
    "            break\n",
    "        # calculate proposed step\n",
    "        dp = npla.lstsq(a + np.diag(np.ones_like(g) * lam), -g)[0]\n",
    "        if xtest(dp, p):\n",
    "            break\n",
    "        # make test move, I think I should be saving previous\n",
    "        # position so that I can \"undo\" if this is bad\n",
    "        p = p0 + dp\n",
    "        y = func(xdata, *p)\n",
    "        chisq_new = chi2(y, ydata)\n",
    "        # see if we reduced chisq, note we should do more here\n",
    "        rho = chisq_old - chisq_new\n",
    "        if rho > 0:\n",
    "            if rho <= ftol * chisq_old:\n",
    "                break\n",
    "            # update params, chisq and a and g\n",
    "            p0 = p\n",
    "            chisq_old = chisq_new\n",
    "            a, g = lm_update(xdata, y - ydata, p0, jac)\n",
    "            lam /= 10\n",
    "        else:\n",
    "            lam *= 10\n",
    "    return p"
   ]
  },
  {
   "cell_type": "code",
   "execution_count": 58,
   "metadata": {},
   "outputs": [
    {
     "name": "stdout",
     "output_type": "stream",
     "text": [
      "CPU times: user 62.4 ms, sys: 4.78 ms, total: 67.2 ms\n",
      "Wall time: 20 ms\n"
     ]
    },
    {
     "data": {
      "text/plain": [
       "[<matplotlib.lines.Line2D at 0x110ae31d0>]"
      ]
     },
     "execution_count": 58,
     "metadata": {},
     "output_type": "execute_result"
    },
    {
     "data": {
      "image/png": "[encoded data removed]",
      "text/plain": [
       "<matplotlib.figure.Figure at 0x110ae32b0>"
      ]
     },
     "metadata": {},
     "output_type": "display_data"
    }
   ],
   "source": [
    "%time popt = lm_ls(test_func, x, y, pguess, test_func_jac)\n",
    "y_fit = test_func(x, *popt)\n",
    "plt.plot(x, y, \".\")\n",
    "plt.plot(x, y_fit)"
   ]
  },
  {
   "cell_type": "code",
   "execution_count": 59,
   "metadata": {},
   "outputs": [
    {
     "data": {
      "text/plain": [
       "True"
      ]
     },
     "execution_count": 59,
     "metadata": {},
     "output_type": "execute_result"
    }
   ],
   "source": [
    "np.allclose(popt, popt_sp)"
   ]
  },
  {
   "cell_type": "code",
   "execution_count": 61,
   "metadata": {},
   "outputs": [
    {
     "name": "stdout",
     "output_type": "stream",
     "text": [
      "786 µs ± 55.7 µs per loop (mean ± std. dev. of 7 runs, 1000 loops each)\n",
      "2.83 ms ± 157 µs per loop (mean ± std. dev. of 7 runs, 100 loops each)\n"
     ]
    }
   ],
   "source": [
    "%timeit curve_fit(test_func, x, y, p0=pguess, full_output=True, jac=test_func_jac)\n",
    "%timeit lm_ls(test_func, x, y, pguess, test_func_jac)"
   ]
  },
  {
   "cell_type": "code",
   "execution_count": 466,
   "metadata": {},
   "outputs": [],
   "source": [
    "%lprun -f lm_update lm_ls(test_func, x, y, pguess, test_func_jac_jit)"
   ]
  },
  {
   "cell_type": "markdown",
   "metadata": {},
   "source": [
    "# Matching the calling\n",
    "\n",
    "I want to match the call signature of [`curve_fit`](https://docs.scipy.org/doc/scipy/reference/generated/scipy.optimize.curve_fit.html)\n",
    "\n",
    "```python\n",
    "popt, pcov, infodict, errmsg, ier = curve_fit(\n",
    "    model_ravel, (xx, yy), data.ravel(), p0=guess_params,\n",
    "    bounds=bounds, full_output=True, jac=self.model_jac)\n",
    "```"
   ]
  },
  {
   "cell_type": "code",
   "execution_count": 63,
   "metadata": {
    "collapsed": true
   },
   "outputs": [],
   "source": [
    "def chi2_ls(f):\n",
    "    \"\"\"$\\chi^2_ls$\"\"\"\n",
    "    return 0.5 * (f**2).sum()\n",
    "\n",
    "def leastsq_ls(func, x0, args=(), Dfun=None, full_output=False,\n",
    "                col_deriv=True, ftol=1.49012e-8, xtol=1.49012e-8,\n",
    "                gtol=0.0, maxfev=None, epsfcn=None, factor=100, diag=None):\n",
    "    \"\"\"A more thorough implementation of levenburg-marquet\n",
    "    for gaussian Noise\n",
    "    \n",
    "    Minimize maximum likelihood for poisson noise\n",
    "    ::\n",
    "        x = arg min(sum(func(y)**2,axis=0))\n",
    "                 y\n",
    "    Parameters\n",
    "    ----------\n",
    "    func : callable\n",
    "        should take at least one (possibly length N vector) argument and\n",
    "        returns M floating point numbers. It must not return NaNs or\n",
    "        fitting might fail.\n",
    "    x0 : ndarray\n",
    "        The starting estimate for the minimization.\n",
    "    args : tuple, optional\n",
    "        Any extra arguments to func are placed in this tuple.\n",
    "    Dfun : callable, optional\n",
    "        A function or method to compute the Jacobian of func with derivatives\n",
    "        across the rows. If this is None, the Jacobian will be estimated.\n",
    "    full_output : bool, optional\n",
    "        non-zero to return all optional outputs.\n",
    "    col_deriv : bool, optional\n",
    "        non-zero to specify that the Jacobian function computes derivatives\n",
    "        down the columns (faster, because there is no transpose operation).\n",
    "    ftol : float, optional\n",
    "        Relative error desired in the sum of squares.\n",
    "    xtol : float, optional\n",
    "        Relative error desired in the approximate solution.\n",
    "    gtol : float, optional\n",
    "        Orthogonality desired between the function vector and the columns of\n",
    "        the Jacobian.\n",
    "    maxfev : int, optional\n",
    "        The maximum number of calls to the function. If `Dfun` is provided\n",
    "        then the default `maxfev` is 100*(N+1) where N is the number of elements\n",
    "        in x0, otherwise the default `maxfev` is 200*(N+1).\n",
    "    epsfcn : float, optional\n",
    "        A variable used in determining a suitable step length for the forward-\n",
    "        difference approximation of the Jacobian (for Dfun=None).\n",
    "        Normally the actual step length will be sqrt(epsfcn)*x\n",
    "        If epsfcn is less than the machine precision, it is assumed that the\n",
    "        relative errors are of the order of the machine precision.\n",
    "    factor : float, optional\n",
    "        A parameter determining the initial step bound\n",
    "        (``factor * || diag * x||``). Should be in interval ``(0.1, 100)``.\n",
    "    diag : sequence, optional\n",
    "        N positive entries that serve as a scale factors for the variables.\n",
    "    \"\"\"\n",
    "    \n",
    "    x0 = asarray(x0).flatten()\n",
    "    n = len(x0)\n",
    "    if not isinstance(args, tuple):\n",
    "        args = (args,)\n",
    "#     shape, dtype = _check_func('leastsq', 'func', func, x0, args, n)\n",
    "#     m = shape[0]\n",
    "#     if n > m:\n",
    "#         raise TypeError('Improper input: N=%s must not exceed M=%s' % (n, m))\n",
    "    if epsfcn is None:\n",
    "        epsfcn = finfo(dtype).eps\n",
    "    if Dfun is None:\n",
    "        raise NotImplementedError\n",
    "    else:\n",
    "        if col_deriv:\n",
    "            pass\n",
    "#             _check_func('leastsq', 'Dfun', Dfun, x0, args, n, (n, m))\n",
    "        else:\n",
    "            raise NotImplementedError(\"Column derivatives required\")\n",
    "        if maxfev is None:\n",
    "            maxfev = 100 * (n + 1)\n",
    "\n",
    "    errors = {0: [\"Improper input parameters.\", TypeError],\n",
    "              1: [\"Both actual and predicted relative reductions \"\n",
    "                  \"in the sum of squares\\n  are at most %f\" % ftol, None],\n",
    "              2: [\"The relative error between two consecutive \"\n",
    "                  \"iterates is at most %f\" % xtol, None],\n",
    "              3: [\"Both actual and predicted relative reductions in \"\n",
    "                  \"the sum of squares\\n  are at most %f and the \"\n",
    "                  \"relative error between two consecutive \"\n",
    "                  \"iterates is at \\n  most %f\" % (ftol, xtol), None],\n",
    "              4: [\"The cosine of the angle between func(x) and any \"\n",
    "                  \"column of the\\n  Jacobian is at most %f in \"\n",
    "                  \"absolute value\" % gtol, None],\n",
    "              5: [\"Number of calls to function has reached \"\n",
    "                  \"maxfev = %d.\" % maxfev, ValueError],\n",
    "              6: [\"ftol=%f is too small, no further reduction \"\n",
    "                  \"in the sum of squares\\n  is possible.\"\"\" % ftol,\n",
    "                  ValueError],\n",
    "              7: [\"xtol=%f is too small, no further improvement in \"\n",
    "                  \"the approximate\\n  solution is possible.\" % xtol,\n",
    "                  ValueError],\n",
    "              8: [\"gtol=%f is too small, func(x) is orthogonal to the \"\n",
    "                  \"columns of\\n  the Jacobian to machine \"\n",
    "                  \"precision.\" % gtol, ValueError],\n",
    "              'unknown': [\"Unknown error.\", TypeError]}\n",
    "    \n",
    "    if maxfev is None:\n",
    "        maxfev = 100 * (len(p0) + 1)\n",
    "\n",
    "#     gtest = lambda g : npla.norm(g, np.inf) <= gtol\n",
    "    def gtest(g):\n",
    "        return np.abs(g).max() <= gtol\n",
    "    def xtest(dp, p):\n",
    "        norm_dp = npla.norm(dp)\n",
    "        return norm_dp <= xtol * (norm_dp + xtol)\n",
    "    \n",
    "    # need residuals\n",
    "    def update(x0, f):\n",
    "        \"\"\"should use partials inside lm_ls\"\"\"\n",
    "        # calculate the jacobian\n",
    "        # j shape (ndata, nparams)\n",
    "        j = Dfun(x0)\n",
    "        # calculate the linear term of Hessian\n",
    "        # a shape (nparams, nparams)\n",
    "        a = j.T @ j\n",
    "        # calculate the gradient\n",
    "        # g shape (nparams,)\n",
    "        g = j.T @ f\n",
    "        return j, a, g\n",
    "\n",
    "    f = func(x0)\n",
    "    j, a, g = update(x0, f)\n",
    "    \n",
    "    chisq_old = chi2(f)\n",
    "    \n",
    "    lam = factor * np.diagonal(a).max()\n",
    "    \n",
    "    x = x0\n",
    "    \n",
    "    for ev in range(maxfev):\n",
    "        if gtest(g):\n",
    "            break\n",
    "        # calculate proposed step\n",
    "        dx = la.lstsq(a + np.diag(np.ones_like(g) * lam), -g)[0]\n",
    "        if xtest(dx, x):\n",
    "            break\n",
    "        # make test move, I think I should be saving previous\n",
    "        # position so that I can \"undo\" if this is bad\n",
    "        x = x0 + dx\n",
    "        f = func(x)\n",
    "        chisq_new = chi2_ls(f)\n",
    "        # see if we reduced chisq, note we should do more here\n",
    "        rho = chisq_old - chisq_new\n",
    "        if rho > 0:\n",
    "            if rho <= ftol * chisq_old:\n",
    "                break\n",
    "            # update params, chisq and a and g\n",
    "            x0 = x\n",
    "            chisq_old = chisq_new\n",
    "            j, a, g = update(x0, f)\n",
    "            lam /= 10\n",
    "        else:\n",
    "            lam *= 10\n",
    "            \n",
    "    popt, pcov, infodict, errmsg, ier = x, None, None, None, None\n",
    "    if full_output:\n",
    "        return popt, pcov, infodict, errmsg, ier\n",
    "    else:\n",
    "        return popt, pcov"
   ]
  },
  {
   "cell_type": "code",
   "execution_count": 64,
   "metadata": {
    "collapsed": true
   },
   "outputs": [],
   "source": [
    "def _wrap_func_ls(func, xdata, ydata, transform):\n",
    "    if transform is None:\n",
    "        def func_wrapped(params):\n",
    "            return func(xdata, *params) - ydata\n",
    "    elif transform.ndim == 1:\n",
    "        def func_wrapped(params):\n",
    "            return transform * (func(xdata, *params) - ydata)\n",
    "    else:\n",
    "        # Chisq = (y - yd)^T C^{-1} (y-yd)\n",
    "        # transform = L such that C = L L^T\n",
    "        # C^{-1} = L^{-T} L^{-1}\n",
    "        # Chisq = (y - yd)^T L^{-T} L^{-1} (y-yd)\n",
    "        # Define (y-yd)' = L^{-1} (y-yd)\n",
    "        # by solving\n",
    "        # L (y-yd)' = (y-yd)\n",
    "        # and minimize (y-yd)'^T (y-yd)'\n",
    "        def func_wrapped(params):\n",
    "            return solve_triangular(transform, func(xdata, *params) - ydata, lower=True)\n",
    "    return func_wrapped\n",
    "\n",
    "\n",
    "def _wrap_jac_ls(jac, xdata, transform):\n",
    "    if transform is None:\n",
    "        def jac_wrapped(params):\n",
    "            return jac(xdata, *params)\n",
    "    elif transform.ndim == 1:\n",
    "        def jac_wrapped(params):\n",
    "            return transform[:, np.newaxis] * np.asarray(jac(xdata, *params))\n",
    "    else:\n",
    "        def jac_wrapped(params):\n",
    "            return solve_triangular(transform, np.asarray(jac(xdata, *params)), lower=True)\n",
    "    return jac_wrapped\n",
    "\n",
    "def curve_fit_ls(f, xdata, ydata, p0=None, sigma=None, absolute_sigma=False,\n",
    "                  check_finite=True, bounds=(-np.inf, np.inf), method=None,\n",
    "                  jac=None, **kwargs):\n",
    "    \"\"\"\n",
    "    Use non-linear least squares to fit a function, f, to data.\n",
    "    Assumes ``ydata = poisson(f(xdata, *params))``\n",
    "    Parameters\n",
    "    ----------\n",
    "    f : callable\n",
    "        The model function, f(x, ...).  It must take the independent\n",
    "        variable as the first argument and the parameters to fit as\n",
    "        separate remaining arguments.\n",
    "    xdata : An M-length sequence or an (k,M)-shaped array for functions with k predictors\n",
    "        The independent variable where the data is measured.\n",
    "    ydata : M-length sequence\n",
    "        The dependent data --- nominally f(xdata, ...)\n",
    "    p0 : None, scalar, or N-length sequence, optional\n",
    "        Initial guess for the parameters.  If None, then the initial\n",
    "        values will all be 1 (if the number of parameters for the function\n",
    "        can be determined using introspection, otherwise a ValueError\n",
    "        is raised).\n",
    "    sigma : None or M-length sequence or MxM array, optional\n",
    "        Determines the uncertainty in `ydata`. If we define residuals as\n",
    "        ``r = ydata - f(xdata, *popt)``, then the interpretation of `sigma`\n",
    "        depends on its number of dimensions:\n",
    "            - A 1-d `sigma` should contain values of standard deviations of\n",
    "              errors in `ydata`. In this case, the optimized function is\n",
    "              ``chisq = sum((r / sigma) ** 2)``.\n",
    "            - A 2-d `sigma` should contain the covariance matrix of\n",
    "              errors in `ydata`. In this case, the optimized function is\n",
    "              ``chisq = r.T @ inv(sigma) @ r``.\n",
    "              .. versionadded:: 0.19\n",
    "        None (default) is equivalent of 1-d `sigma` filled with ones.\n",
    "    absolute_sigma : bool, optional\n",
    "        If True, `sigma` is used in an absolute sense and the estimated parameter\n",
    "        covariance `pcov` reflects these absolute values.\n",
    "        If False, only the relative magnitudes of the `sigma` values matter.\n",
    "        The returned parameter covariance matrix `pcov` is based on scaling\n",
    "        `sigma` by a constant factor. This constant is set by demanding that the\n",
    "        reduced `chisq` for the optimal parameters `popt` when using the\n",
    "        *scaled* `sigma` equals unity. In other words, `sigma` is scaled to\n",
    "        match the sample variance of the residuals after the fit.\n",
    "        Mathematically,\n",
    "        ``pcov(absolute_sigma=False) = pcov(absolute_sigma=True) * chisq(popt)/(M-N)``\n",
    "    check_finite : bool, optional\n",
    "        If True, check that the input arrays do not contain nans of infs,\n",
    "        and raise a ValueError if they do. Setting this parameter to\n",
    "        False may silently produce nonsensical results if the input arrays\n",
    "        do contain nans. Default is True.\n",
    "    bounds : 2-tuple of array_like, optional\n",
    "        Lower and upper bounds on independent variables. Defaults to no bounds.\n",
    "        Each element of the tuple must be either an array with the length equal\n",
    "        to the number of parameters, or a scalar (in which case the bound is\n",
    "        taken to be the same for all parameters.) Use ``np.inf`` with an\n",
    "        appropriate sign to disable bounds on all or some parameters.\n",
    "        .. versionadded:: 0.17\n",
    "    method : {'lm', 'trf', 'dogbox'}, optional\n",
    "        Method to use for optimization.  See `least_squares` for more details.\n",
    "        Default is 'lm' for unconstrained problems and 'trf' if `bounds` are\n",
    "        provided. The method 'lm' won't work when the number of observations\n",
    "        is less than the number of variables, use 'trf' or 'dogbox' in this\n",
    "        case.\n",
    "        .. versionadded:: 0.17\n",
    "    jac : callable, string or None, optional\n",
    "        Function with signature ``jac(x, ...)`` which computes the Jacobian\n",
    "        matrix of the model function with respect to parameters as a dense\n",
    "        array_like structure. It will be scaled according to provided `sigma`.\n",
    "        If None (default), the Jacobian will be estimated numerically.\n",
    "        String keywords for 'trf' and 'dogbox' methods can be used to select\n",
    "        a finite difference scheme, see `least_squares`.\n",
    "        .. versionadded:: 0.18\n",
    "    kwargs\n",
    "        Keyword arguments passed to `leastsq` for ``method='lm'`` or\n",
    "        `least_squares` otherwise.\"\"\"\n",
    "    \n",
    "    if p0 is None:\n",
    "        raise NotImplementedError(\"You must give a guess\")\n",
    "    if sigma is None:\n",
    "        raise NotImplementedError(\"Weighting has not been implemented\")\n",
    "    else:\n",
    "        transform = None\n",
    "        \n",
    "    if method is None:\n",
    "        method = \"lm\"\n",
    "        \n",
    "    if jac is None:\n",
    "        raise NotImplementedError(\"You need a Jacobian\")\n",
    "        \n",
    "    # NaNs can not be handled\n",
    "    if check_finite:\n",
    "        ydata = np.asarray_chkfinite(ydata)\n",
    "    else:\n",
    "        ydata = np.asarray(ydata)\n",
    "\n",
    "    if isinstance(xdata, (list, tuple, np.ndarray)):\n",
    "        # `xdata` is passed straight to the user-defined `f`, so allow\n",
    "        # non-array_like `xdata`.\n",
    "        if check_finite:\n",
    "            xdata = np.asarray_chkfinite(xdata)\n",
    "        else:\n",
    "            xdata = np.asarray(xdata)\n",
    "            \n",
    "    func = _wrap_func_ls(f, xdata, ydata, transform)\n",
    "    if callable(jac):\n",
    "        jac = _wrap_jac_ls(jac, xdata, transform)\n",
    "    elif jac is None and method != 'lm':\n",
    "        jac = '2-point'\n",
    "\n",
    "    if method == 'lm':\n",
    "        # Remove full_output from kwargs, otherwise we're passing it in twice.\n",
    "        return_full = kwargs.pop('full_output', False)\n",
    "        res = leastsq_ls(func, p0, Dfun=jac, full_output=1, **kwargs)\n",
    "        popt, pcov, infodict, errmsg, ier = res\n",
    "        cost = np.sum(infodict['fvec'] ** 2)\n",
    "        if ier not in [1, 2, 3, 4]:\n",
    "            raise RuntimeError(\"Optimal parameters not found: \" + errmsg)\n",
    "    else:\n",
    "        raise NotImplementedError(\"The only available method is 'lm'\")\n",
    "        \n",
    "    if return_full:\n",
    "        return popt, pcov, infodict, errmsg, ier\n",
    "    else:\n",
    "        return popt, pcov"
   ]
  },
  {
   "cell_type": "code",
   "execution_count": null,
   "metadata": {
    "collapsed": true
   },
   "outputs": [],
   "source": []
  }
 ],
 "metadata": {
  "kernelspec": {
   "display_name": "Python 3",
   "language": "python",
   "name": "python3"
  }
 },
 "nbformat": 4,
 "nbformat_minor": 2
}

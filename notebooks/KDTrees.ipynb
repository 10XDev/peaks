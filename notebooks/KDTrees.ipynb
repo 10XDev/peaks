{
 "cells": [
  {
   "cell_type": "markdown",
   "metadata": {},
   "source": [
    "# KDTree Test\n",
    "\n",
    "One of the slowest parts (now that multiprocessing is working) is the pruning of extraneous peaks. It seems to me that there are 3 ways we can make this go faster.\n",
    "\n",
    "1. Brute force (current implementation) + `multiprocessing`\n",
    "2. Dynamic programming, we can build up a solution one peak at a time\n",
    "3. We could use KDTrees to find nearest neighbors quickly and then brute force our way through those\n",
    "\n",
    "The last two seem to be the best choices, from a learning prospective an elegance prospective and probably and efficiency prospective.\n",
    "\n",
    "One important thing to note is that the highest amplitude peak should be analyzed first"
   ]
  },
  {
   "cell_type": "code",
   "execution_count": 1,
   "metadata": {
    "collapsed": true
   },
   "outputs": [],
   "source": [
    "import numpy as np\n",
    "import itertools as itt\n",
    "from numpy.linalg import norm\n",
    "from scipy.spatial import KDTree"
   ]
  },
  {
   "cell_type": "code",
   "execution_count": 2,
   "metadata": {
    "collapsed": true
   },
   "outputs": [],
   "source": [
    "def prune_blobs(blobs, diameter):\n",
    "    \"\"\"Original implementation of method, taken from skimage.\n",
    "    This is a simple, and naive brute force calculation.\n",
    "    \"\"\"\n",
    "    # assumes blobs have structure of y0, x0, width, amp\n",
    "    # make a copy of blobs otherwise it will be changed\n",
    "    temp_blobs = blobs.copy()\n",
    "    # cycle through all possible pairwise cominations of blobs\n",
    "    for blob1, blob2 in itt.combinations(temp_blobs, 2):\n",
    "        # take the norm of the difference in positions and compare\n",
    "        # with diameter\n",
    "        if norm((blob1 - blob2)[0:2]) < diameter:\n",
    "            # compare intensities and use the third column to keep\n",
    "            # track of which blobs to toss\n",
    "            if blob1[3] > blob2[3]:\n",
    "                blob2[3] = -1\n",
    "            else:\n",
    "                blob1[3] = -1\n",
    "\n",
    "    # set internal blobs array to blobs_array[blobs_array[:, 2] > 0]\n",
    "    new_blobs = np.array([\n",
    "        a for b, a in zip(temp_blobs, blobs) if b[3] > 0\n",
    "    ])\n",
    "\n",
    "    # Return a copy of blobs incase user wants a onliner\n",
    "    return new_blobs"
   ]
  },
  {
   "cell_type": "code",
   "execution_count": null,
   "metadata": {
    "collapsed": true
   },
   "outputs": [],
   "source": [
    "# make fake data"
   ]
  }
 ],
 "metadata": {
  "kernelspec": {
   "display_name": "Python 3",
   "language": "python",
   "name": "python3"
  },
  "language_info": {
   "codemirror_mode": {
    "name": "ipython",
    "version": 3
   },
   "file_extension": ".py",
   "mimetype": "text/x-python",
   "name": "python",
   "nbconvert_exporter": "python",
   "pygments_lexer": "ipython3",
   "version": "3.5.1"
  }
 },
 "nbformat": 4,
 "nbformat_minor": 0
}
